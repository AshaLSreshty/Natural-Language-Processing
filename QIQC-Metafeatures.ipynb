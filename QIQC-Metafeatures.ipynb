{
 "cells": [
  {
   "cell_type": "code",
   "execution_count": 1,
   "metadata": {
    "_cell_guid": "b1076dfc-b9ad-4769-8c92-a6c4dae69d19",
    "_uuid": "8f2839f25d086af736a60e9eeb907d3b93b6e0e5",
    "execution": {
     "iopub.execute_input": "2020-12-18T20:39:31.967815Z",
     "iopub.status.busy": "2020-12-18T20:39:31.966751Z",
     "iopub.status.idle": "2020-12-18T20:39:31.994742Z",
     "shell.execute_reply": "2020-12-18T20:39:31.993810Z"
    },
    "papermill": {
     "duration": 0.115946,
     "end_time": "2020-12-18T20:39:31.994880",
     "exception": false,
     "start_time": "2020-12-18T20:39:31.878934",
     "status": "completed"
    },
    "tags": []
   },
   "outputs": [
    {
     "name": "stdout",
     "output_type": "stream",
     "text": [
      "/kaggle/input/processed-sets/QIQC_TextProcessed_TestSet.csv\n",
      "/kaggle/input/processed-sets/QIQC_TextProcessed_TrainingSet.csv\n",
      "/kaggle/input/quora/sample_submission.csv\n",
      "/kaggle/input/quora/train.csv\n",
      "/kaggle/input/quora/test.csv\n",
      "/kaggle/input/qiqc-metafeatures/Train_metafeatures.csv\n",
      "/kaggle/input/qiqc-metafeatures/__results__.html\n",
      "/kaggle/input/qiqc-metafeatures/Outliers_submission-mf.csv\n",
      "/kaggle/input/qiqc-metafeatures/__notebook__.ipynb\n",
      "/kaggle/input/qiqc-metafeatures/__output__.json\n",
      "/kaggle/input/qiqc-metafeatures/Test_metafeatures.csv\n",
      "/kaggle/input/qiqc-metafeatures/custom.css\n",
      "/kaggle/input/qiqc-metafeatures/__results___files/__results___55_3.png\n",
      "/kaggle/input/qiqc-metafeatures/__results___files/__results___55_1.png\n",
      "/kaggle/input/qiqc-metafeatures/__results___files/__results___55_4.png\n",
      "/kaggle/input/qiqc-metafeatures/__results___files/__results___57_10.png\n",
      "/kaggle/input/qiqc-metafeatures/__results___files/__results___57_8.png\n",
      "/kaggle/input/qiqc-metafeatures/__results___files/__results___55_7.png\n",
      "/kaggle/input/qiqc-metafeatures/__results___files/__results___57_12.png\n",
      "/kaggle/input/qiqc-metafeatures/__results___files/__results___53_0.png\n",
      "/kaggle/input/qiqc-metafeatures/__results___files/__results___95_1.png\n",
      "/kaggle/input/qiqc-metafeatures/__results___files/__results___56_1.png\n",
      "/kaggle/input/qiqc-metafeatures/__results___files/__results___94_1.png\n",
      "/kaggle/input/qiqc-metafeatures/__results___files/__results___57_5.png\n",
      "/kaggle/input/qiqc-metafeatures/__results___files/__results___73_1.png\n",
      "/kaggle/input/qiqc-metafeatures/__results___files/__results___57_7.png\n",
      "/kaggle/input/qiqc-metafeatures/__results___files/__results___55_2.png\n",
      "/kaggle/input/qiqc-metafeatures/__results___files/__results___57_0.png\n",
      "/kaggle/input/qiqc-metafeatures/__results___files/__results___57_1.png\n",
      "/kaggle/input/qiqc-metafeatures/__results___files/__results___57_9.png\n",
      "/kaggle/input/qiqc-metafeatures/__results___files/__results___57_6.png\n",
      "/kaggle/input/qiqc-metafeatures/__results___files/__results___57_2.png\n",
      "/kaggle/input/qiqc-metafeatures/__results___files/__results___57_4.png\n",
      "/kaggle/input/qiqc-metafeatures/__results___files/__results___55_10.png\n",
      "/kaggle/input/qiqc-metafeatures/__results___files/__results___55_12.png\n",
      "/kaggle/input/qiqc-metafeatures/__results___files/__results___52_0.png\n",
      "/kaggle/input/qiqc-metafeatures/__results___files/__results___55_6.png\n",
      "/kaggle/input/qiqc-metafeatures/__results___files/__results___55_0.png\n",
      "/kaggle/input/qiqc-metafeatures/__results___files/__results___55_11.png\n",
      "/kaggle/input/qiqc-metafeatures/__results___files/__results___57_11.png\n",
      "/kaggle/input/qiqc-metafeatures/__results___files/__results___55_5.png\n",
      "/kaggle/input/qiqc-metafeatures/__results___files/__results___57_3.png\n",
      "/kaggle/input/qiqc-metafeatures/__results___files/__results___55_8.png\n",
      "/kaggle/input/qiqc-metafeatures/__results___files/__results___55_9.png\n"
     ]
    }
   ],
   "source": [
    "# This Python 3 environment comes with many helpful analytics libraries installed\n",
    "# It is defined by the kaggle/python Docker image: https://github.com/kaggle/docker-python\n",
    "# For example, here's several helpful packages to load\n",
    "\n",
    "import numpy as np # linear algebra\n",
    "import pandas as pd # data processing, CSV file I/O (e.g. pd.read_csv)\n",
    "\n",
    "# Input data files are available in the read-only \"../input/\" directory\n",
    "# For example, running this (by clicking run or pressing Shift+Enter) will list all files under the input directory\n",
    "\n",
    "import os\n",
    "for dirname, _, filenames in os.walk('/kaggle/input'):\n",
    "    for filename in filenames:\n",
    "        print(os.path.join(dirname, filename))\n",
    "\n",
    "# You can write up to 20GB to the current directory (/kaggle/working/) that gets preserved as output when you create a version using \"Save & Run All\" \n",
    "# You can also write temporary files to /kaggle/temp/, but they won't be saved outside of the current session"
   ]
  },
  {
   "cell_type": "markdown",
   "metadata": {
    "papermill": {
     "duration": 0.074476,
     "end_time": "2020-12-18T20:39:32.146205",
     "exception": false,
     "start_time": "2020-12-18T20:39:32.071729",
     "status": "completed"
    },
    "tags": []
   },
   "source": [
    "# Meta Features Engineering"
   ]
  },
  {
   "cell_type": "code",
   "execution_count": 2,
   "metadata": {
    "_cell_guid": "79c7e3d0-c299-4dcb-8224-4455121ee9b0",
    "_uuid": "d629ff2d2480ee46fbb7e2d37f6b5fab8052498a",
    "execution": {
     "iopub.execute_input": "2020-12-18T20:39:32.302447Z",
     "iopub.status.busy": "2020-12-18T20:39:32.301725Z",
     "iopub.status.idle": "2020-12-18T20:39:35.169718Z",
     "shell.execute_reply": "2020-12-18T20:39:35.169011Z"
    },
    "papermill": {
     "duration": 2.948608,
     "end_time": "2020-12-18T20:39:35.169837",
     "exception": false,
     "start_time": "2020-12-18T20:39:32.221229",
     "status": "completed"
    },
    "tags": []
   },
   "outputs": [
    {
     "name": "stdout",
     "output_type": "stream",
     "text": [
      "[nltk_data] Downloading package stopwords to /usr/share/nltk_data...\n",
      "[nltk_data]   Package stopwords is already up-to-date!\n"
     ]
    },
    {
     "data": {
      "text/plain": [
       "True"
      ]
     },
     "execution_count": 2,
     "metadata": {},
     "output_type": "execute_result"
    }
   ],
   "source": [
    "import pandas as pd\n",
    "import numpy as np\n",
    "import seaborn as sns\n",
    "import matplotlib.pyplot as plt\n",
    "import nltk\n",
    "import gensim\n",
    "nltk.download('stopwords')"
   ]
  },
  {
   "cell_type": "markdown",
   "metadata": {
    "papermill": {
     "duration": 0.075093,
     "end_time": "2020-12-18T20:39:35.321430",
     "exception": false,
     "start_time": "2020-12-18T20:39:35.246337",
     "status": "completed"
    },
    "tags": []
   },
   "source": [
    "**Feature Engineering for Training Dataset**"
   ]
  },
  {
   "cell_type": "markdown",
   "metadata": {
    "papermill": {
     "duration": 0.075593,
     "end_time": "2020-12-18T20:39:35.472243",
     "exception": false,
     "start_time": "2020-12-18T20:39:35.396650",
     "status": "completed"
    },
    "tags": []
   },
   "source": [
    "**Loading the data**"
   ]
  },
  {
   "cell_type": "code",
   "execution_count": 3,
   "metadata": {
    "execution": {
     "iopub.execute_input": "2020-12-18T20:39:35.631739Z",
     "iopub.status.busy": "2020-12-18T20:39:35.630977Z",
     "iopub.status.idle": "2020-12-18T20:39:38.933452Z",
     "shell.execute_reply": "2020-12-18T20:39:38.932425Z"
    },
    "papermill": {
     "duration": 3.386119,
     "end_time": "2020-12-18T20:39:38.933601",
     "exception": false,
     "start_time": "2020-12-18T20:39:35.547482",
     "status": "completed"
    },
    "tags": []
   },
   "outputs": [],
   "source": [
    "train_df = pd.read_csv(\"/kaggle/input/quora/train.csv\")"
   ]
  },
  {
   "cell_type": "code",
   "execution_count": 4,
   "metadata": {
    "execution": {
     "iopub.execute_input": "2020-12-18T20:39:39.096678Z",
     "iopub.status.busy": "2020-12-18T20:39:39.095874Z",
     "iopub.status.idle": "2020-12-18T20:39:41.132325Z",
     "shell.execute_reply": "2020-12-18T20:39:41.131522Z"
    },
    "papermill": {
     "duration": 2.121767,
     "end_time": "2020-12-18T20:39:41.132470",
     "exception": false,
     "start_time": "2020-12-18T20:39:39.010703",
     "status": "completed"
    },
    "tags": []
   },
   "outputs": [],
   "source": [
    "test_df = pd.read_csv(\"/kaggle/input/quora/test.csv\")"
   ]
  },
  {
   "cell_type": "code",
   "execution_count": 5,
   "metadata": {
    "execution": {
     "iopub.execute_input": "2020-12-18T20:39:41.293580Z",
     "iopub.status.busy": "2020-12-18T20:39:41.292728Z",
     "iopub.status.idle": "2020-12-18T20:39:41.297978Z",
     "shell.execute_reply": "2020-12-18T20:39:41.297394Z"
    },
    "papermill": {
     "duration": 0.088682,
     "end_time": "2020-12-18T20:39:41.298129",
     "exception": false,
     "start_time": "2020-12-18T20:39:41.209447",
     "status": "completed"
    },
    "tags": []
   },
   "outputs": [
    {
     "data": {
      "text/plain": [
       "Index(['qid', 'question_text', 'target'], dtype='object')"
      ]
     },
     "execution_count": 5,
     "metadata": {},
     "output_type": "execute_result"
    }
   ],
   "source": [
    "train_df.columns"
   ]
  },
  {
   "cell_type": "code",
   "execution_count": 6,
   "metadata": {
    "execution": {
     "iopub.execute_input": "2020-12-18T20:39:41.479343Z",
     "iopub.status.busy": "2020-12-18T20:39:41.478584Z",
     "iopub.status.idle": "2020-12-18T20:39:41.493188Z",
     "shell.execute_reply": "2020-12-18T20:39:41.492393Z"
    },
    "papermill": {
     "duration": 0.116539,
     "end_time": "2020-12-18T20:39:41.493331",
     "exception": false,
     "start_time": "2020-12-18T20:39:41.376792",
     "status": "completed"
    },
    "tags": []
   },
   "outputs": [
    {
     "data": {
      "text/html": [
       "<div>\n",
       "<style scoped>\n",
       "    .dataframe tbody tr th:only-of-type {\n",
       "        vertical-align: middle;\n",
       "    }\n",
       "\n",
       "    .dataframe tbody tr th {\n",
       "        vertical-align: top;\n",
       "    }\n",
       "\n",
       "    .dataframe thead th {\n",
       "        text-align: right;\n",
       "    }\n",
       "</style>\n",
       "<table border=\"1\" class=\"dataframe\">\n",
       "  <thead>\n",
       "    <tr style=\"text-align: right;\">\n",
       "      <th></th>\n",
       "      <th>qid</th>\n",
       "      <th>question_text</th>\n",
       "      <th>target</th>\n",
       "    </tr>\n",
       "  </thead>\n",
       "  <tbody>\n",
       "    <tr>\n",
       "      <th>0</th>\n",
       "      <td>6f47b0f60633c2056455</td>\n",
       "      <td>How can I reply to this comment, \"India is poo...</td>\n",
       "      <td>0</td>\n",
       "    </tr>\n",
       "    <tr>\n",
       "      <th>1</th>\n",
       "      <td>d49b3966070b27bf07fc</td>\n",
       "      <td>What did they use for transportation in Ancien...</td>\n",
       "      <td>0</td>\n",
       "    </tr>\n",
       "    <tr>\n",
       "      <th>2</th>\n",
       "      <td>6d5faa49380557c8ca7b</td>\n",
       "      <td>What are the most important provisions of Obam...</td>\n",
       "      <td>0</td>\n",
       "    </tr>\n",
       "    <tr>\n",
       "      <th>3</th>\n",
       "      <td>cebea75faa47388edcf5</td>\n",
       "      <td>At what age do most Finns master English today?</td>\n",
       "      <td>0</td>\n",
       "    </tr>\n",
       "    <tr>\n",
       "      <th>4</th>\n",
       "      <td>2a7b76a679cadb0a016e</td>\n",
       "      <td>What is cheapest place to live in India for on...</td>\n",
       "      <td>0</td>\n",
       "    </tr>\n",
       "  </tbody>\n",
       "</table>\n",
       "</div>"
      ],
      "text/plain": [
       "                    qid                                      question_text  \\\n",
       "0  6f47b0f60633c2056455  How can I reply to this comment, \"India is poo...   \n",
       "1  d49b3966070b27bf07fc  What did they use for transportation in Ancien...   \n",
       "2  6d5faa49380557c8ca7b  What are the most important provisions of Obam...   \n",
       "3  cebea75faa47388edcf5    At what age do most Finns master English today?   \n",
       "4  2a7b76a679cadb0a016e  What is cheapest place to live in India for on...   \n",
       "\n",
       "   target  \n",
       "0       0  \n",
       "1       0  \n",
       "2       0  \n",
       "3       0  \n",
       "4       0  "
      ]
     },
     "execution_count": 6,
     "metadata": {},
     "output_type": "execute_result"
    }
   ],
   "source": [
    "train_df.head(5)"
   ]
  },
  {
   "cell_type": "markdown",
   "metadata": {
    "papermill": {
     "duration": 0.079951,
     "end_time": "2020-12-18T20:39:41.656279",
     "exception": false,
     "start_time": "2020-12-18T20:39:41.576328",
     "status": "completed"
    },
    "tags": []
   },
   "source": [
    "**Creating another dataframe for metafeatures from training set**"
   ]
  },
  {
   "cell_type": "code",
   "execution_count": 7,
   "metadata": {
    "execution": {
     "iopub.execute_input": "2020-12-18T20:39:41.818718Z",
     "iopub.status.busy": "2020-12-18T20:39:41.817476Z",
     "iopub.status.idle": "2020-12-18T20:39:41.821332Z",
     "shell.execute_reply": "2020-12-18T20:39:41.820740Z"
    },
    "papermill": {
     "duration": 0.087155,
     "end_time": "2020-12-18T20:39:41.821471",
     "exception": false,
     "start_time": "2020-12-18T20:39:41.734316",
     "status": "completed"
    },
    "tags": []
   },
   "outputs": [],
   "source": [
    "train_mf = pd.DataFrame()"
   ]
  },
  {
   "cell_type": "code",
   "execution_count": 8,
   "metadata": {
    "execution": {
     "iopub.execute_input": "2020-12-18T20:39:41.996880Z",
     "iopub.status.busy": "2020-12-18T20:39:41.996153Z",
     "iopub.status.idle": "2020-12-18T20:39:43.564244Z",
     "shell.execute_reply": "2020-12-18T20:39:43.563581Z"
    },
    "papermill": {
     "duration": 1.661907,
     "end_time": "2020-12-18T20:39:43.564404",
     "exception": false,
     "start_time": "2020-12-18T20:39:41.902497",
     "status": "completed"
    },
    "tags": []
   },
   "outputs": [],
   "source": [
    "train_mf[\"num_words\"] = train_df[\"question_text\"].apply(lambda x: len(str(x).split()))"
   ]
  },
  {
   "cell_type": "code",
   "execution_count": 9,
   "metadata": {
    "execution": {
     "iopub.execute_input": "2020-12-18T20:39:43.748836Z",
     "iopub.status.busy": "2020-12-18T20:39:43.748021Z",
     "iopub.status.idle": "2020-12-18T20:39:46.361452Z",
     "shell.execute_reply": "2020-12-18T20:39:46.360602Z"
    },
    "papermill": {
     "duration": 2.707909,
     "end_time": "2020-12-18T20:39:46.361604",
     "exception": false,
     "start_time": "2020-12-18T20:39:43.653695",
     "status": "completed"
    },
    "tags": []
   },
   "outputs": [],
   "source": [
    "## Number of unique words in the text ##\n",
    "train_mf[\"num_unique_words\"] = train_df[\"question_text\"].apply(lambda x: len(set(str(x).split())))"
   ]
  },
  {
   "cell_type": "code",
   "execution_count": 10,
   "metadata": {
    "execution": {
     "iopub.execute_input": "2020-12-18T20:39:46.571251Z",
     "iopub.status.busy": "2020-12-18T20:39:46.544790Z",
     "iopub.status.idle": "2020-12-18T20:39:47.213044Z",
     "shell.execute_reply": "2020-12-18T20:39:47.213608Z"
    },
    "papermill": {
     "duration": 0.773256,
     "end_time": "2020-12-18T20:39:47.213787",
     "exception": false,
     "start_time": "2020-12-18T20:39:46.440531",
     "status": "completed"
    },
    "tags": []
   },
   "outputs": [],
   "source": [
    "## Number of characters in the text ##\n",
    "train_mf[\"char_count\"] = train_df[\"question_text\"].apply(lambda x: len(str(x)))"
   ]
  },
  {
   "cell_type": "code",
   "execution_count": 11,
   "metadata": {
    "execution": {
     "iopub.execute_input": "2020-12-18T20:39:47.381612Z",
     "iopub.status.busy": "2020-12-18T20:39:47.380793Z",
     "iopub.status.idle": "2020-12-18T20:40:10.087055Z",
     "shell.execute_reply": "2020-12-18T20:40:10.086267Z"
    },
    "papermill": {
     "duration": 22.792705,
     "end_time": "2020-12-18T20:40:10.087230",
     "exception": false,
     "start_time": "2020-12-18T20:39:47.294525",
     "status": "completed"
    },
    "tags": []
   },
   "outputs": [],
   "source": [
    "from nltk.corpus import stopwords\n",
    "stop_words = stopwords.words('english')\n",
    "\n",
    "## Number of stopwords in the text ##\n",
    "train_mf[\"stopword_count\"] = train_df[\"question_text\"].apply(lambda x: len([w for w in str(x).lower().split() if w in stop_words]))"
   ]
  },
  {
   "cell_type": "code",
   "execution_count": 12,
   "metadata": {
    "execution": {
     "iopub.execute_input": "2020-12-18T20:40:10.278542Z",
     "iopub.status.busy": "2020-12-18T20:40:10.277756Z",
     "iopub.status.idle": "2020-12-18T20:40:16.130154Z",
     "shell.execute_reply": "2020-12-18T20:40:16.129438Z"
    },
    "papermill": {
     "duration": 5.957987,
     "end_time": "2020-12-18T20:40:16.130282",
     "exception": false,
     "start_time": "2020-12-18T20:40:10.172295",
     "status": "completed"
    },
    "tags": []
   },
   "outputs": [],
   "source": [
    "import string\n",
    "\n",
    "## Number of punctuations in the text ##\n",
    "train_mf[\"punctuations_count\"] = train_df[\"question_text\"].apply(lambda x: len([c for c in str(x) if c in string.punctuation]) )"
   ]
  },
  {
   "cell_type": "code",
   "execution_count": 13,
   "metadata": {
    "execution": {
     "iopub.execute_input": "2020-12-18T20:40:16.332506Z",
     "iopub.status.busy": "2020-12-18T20:40:16.311337Z",
     "iopub.status.idle": "2020-12-18T20:40:18.729323Z",
     "shell.execute_reply": "2020-12-18T20:40:18.729876Z"
    },
    "papermill": {
     "duration": 2.520769,
     "end_time": "2020-12-18T20:40:18.730028",
     "exception": false,
     "start_time": "2020-12-18T20:40:16.209259",
     "status": "completed"
    },
    "tags": []
   },
   "outputs": [],
   "source": [
    "## Number of title case words in the text ##\n",
    "train_mf[\"num_words_upper\"] = train_df[\"question_text\"].apply(lambda x: len([w for w in str(x).split() if w.isupper()]))"
   ]
  },
  {
   "cell_type": "code",
   "execution_count": 14,
   "metadata": {
    "execution": {
     "iopub.execute_input": "2020-12-18T20:40:18.896518Z",
     "iopub.status.busy": "2020-12-18T20:40:18.895435Z",
     "iopub.status.idle": "2020-12-18T20:40:21.496062Z",
     "shell.execute_reply": "2020-12-18T20:40:21.496675Z"
    },
    "papermill": {
     "duration": 2.683816,
     "end_time": "2020-12-18T20:40:21.496831",
     "exception": false,
     "start_time": "2020-12-18T20:40:18.813015",
     "status": "completed"
    },
    "tags": []
   },
   "outputs": [],
   "source": [
    "## Number of title case words in the text ##\n",
    "train_mf[\"num_words_title\"] = train_df[\"question_text\"].apply(lambda x: len([w for w in str(x).split() if w.istitle()]))"
   ]
  },
  {
   "cell_type": "code",
   "execution_count": 15,
   "metadata": {
    "execution": {
     "iopub.execute_input": "2020-12-18T20:40:21.664541Z",
     "iopub.status.busy": "2020-12-18T20:40:21.663436Z",
     "iopub.status.idle": "2020-12-18T20:40:39.246194Z",
     "shell.execute_reply": "2020-12-18T20:40:39.246718Z"
    },
    "papermill": {
     "duration": 17.66882,
     "end_time": "2020-12-18T20:40:39.246889",
     "exception": false,
     "start_time": "2020-12-18T20:40:21.578069",
     "status": "completed"
    },
    "tags": []
   },
   "outputs": [],
   "source": [
    "## Average length of the words in the text ##\n",
    "train_mf[\"mean_word_len\"] = train_df[\"question_text\"].apply(lambda x: np.mean([len(w) for w in str(x).split()]))"
   ]
  },
  {
   "cell_type": "code",
   "execution_count": 16,
   "metadata": {
    "execution": {
     "iopub.execute_input": "2020-12-18T20:40:39.413346Z",
     "iopub.status.busy": "2020-12-18T20:40:39.412188Z",
     "iopub.status.idle": "2020-12-18T20:40:39.852724Z",
     "shell.execute_reply": "2020-12-18T20:40:39.853259Z"
    },
    "papermill": {
     "duration": 0.527035,
     "end_time": "2020-12-18T20:40:39.853433",
     "exception": false,
     "start_time": "2020-12-18T20:40:39.326398",
     "status": "completed"
    },
    "tags": []
   },
   "outputs": [],
   "source": [
    "train_mf[\"lower_question_text\"] = train_df[\"question_text\"].apply(lambda x: x.lower())"
   ]
  },
  {
   "cell_type": "code",
   "execution_count": 17,
   "metadata": {
    "execution": {
     "iopub.execute_input": "2020-12-18T20:40:40.053501Z",
     "iopub.status.busy": "2020-12-18T20:40:40.052405Z",
     "iopub.status.idle": "2020-12-18T20:40:40.735540Z",
     "shell.execute_reply": "2020-12-18T20:40:40.734501Z"
    },
    "papermill": {
     "duration": 0.797818,
     "end_time": "2020-12-18T20:40:40.735708",
     "exception": false,
     "start_time": "2020-12-18T20:40:39.937890",
     "status": "completed"
    },
    "tags": []
   },
   "outputs": [],
   "source": [
    "train_mf['num_exclamation_marks'] = train_df['question_text'].apply(lambda comment: comment.count('!'))"
   ]
  },
  {
   "cell_type": "code",
   "execution_count": 18,
   "metadata": {
    "execution": {
     "iopub.execute_input": "2020-12-18T20:40:40.925417Z",
     "iopub.status.busy": "2020-12-18T20:40:40.924625Z",
     "iopub.status.idle": "2020-12-18T20:40:41.566660Z",
     "shell.execute_reply": "2020-12-18T20:40:41.565922Z"
    },
    "papermill": {
     "duration": 0.751589,
     "end_time": "2020-12-18T20:40:41.566829",
     "exception": false,
     "start_time": "2020-12-18T20:40:40.815240",
     "status": "completed"
    },
    "tags": []
   },
   "outputs": [],
   "source": [
    "train_mf['num_question_marks'] = train_df['question_text'].apply(lambda comment: comment.count('?'))"
   ]
  },
  {
   "cell_type": "code",
   "execution_count": 19,
   "metadata": {
    "execution": {
     "iopub.execute_input": "2020-12-18T20:40:41.768565Z",
     "iopub.status.busy": "2020-12-18T20:40:41.763139Z",
     "iopub.status.idle": "2020-12-18T20:40:43.507875Z",
     "shell.execute_reply": "2020-12-18T20:40:43.507084Z"
    },
    "papermill": {
     "duration": 1.85632,
     "end_time": "2020-12-18T20:40:43.508016",
     "exception": false,
     "start_time": "2020-12-18T20:40:41.651696",
     "status": "completed"
    },
    "tags": []
   },
   "outputs": [],
   "source": [
    "train_mf['num_symbols'] = train_df['question_text'].apply(lambda comment: sum(comment.count(w) for w in '*&$%'))"
   ]
  },
  {
   "cell_type": "code",
   "execution_count": 20,
   "metadata": {
    "execution": {
     "iopub.execute_input": "2020-12-18T20:40:43.739722Z",
     "iopub.status.busy": "2020-12-18T20:40:43.702822Z",
     "iopub.status.idle": "2020-12-18T20:40:45.507044Z",
     "shell.execute_reply": "2020-12-18T20:40:45.507591Z"
    },
    "papermill": {
     "duration": 1.916319,
     "end_time": "2020-12-18T20:40:45.507783",
     "exception": false,
     "start_time": "2020-12-18T20:40:43.591464",
     "status": "completed"
    },
    "tags": []
   },
   "outputs": [],
   "source": [
    "train_mf['num_smilies'] = train_df['question_text'].apply(lambda comment: sum(comment.count(w) for w in (':-)', ':)', ';-)', ';)')))"
   ]
  },
  {
   "cell_type": "code",
   "execution_count": 21,
   "metadata": {
    "execution": {
     "iopub.execute_input": "2020-12-18T20:40:45.696289Z",
     "iopub.status.busy": "2020-12-18T20:40:45.678931Z",
     "iopub.status.idle": "2020-12-18T20:40:47.459089Z",
     "shell.execute_reply": "2020-12-18T20:40:47.458354Z"
    },
    "papermill": {
     "duration": 1.869223,
     "end_time": "2020-12-18T20:40:47.459238",
     "exception": false,
     "start_time": "2020-12-18T20:40:45.590015",
     "status": "completed"
    },
    "tags": []
   },
   "outputs": [],
   "source": [
    "train_mf['num_sad'] = train_df['question_text'].apply(lambda comment: sum(comment.count(w) for w in (':-<', ':()', ';-()', ';(')))\n"
   ]
  },
  {
   "cell_type": "code",
   "execution_count": 22,
   "metadata": {
    "execution": {
     "iopub.execute_input": "2020-12-18T20:40:47.636806Z",
     "iopub.status.busy": "2020-12-18T20:40:47.635660Z",
     "iopub.status.idle": "2020-12-18T20:40:47.644160Z",
     "shell.execute_reply": "2020-12-18T20:40:47.643335Z"
    },
    "papermill": {
     "duration": 0.097719,
     "end_time": "2020-12-18T20:40:47.644319",
     "exception": false,
     "start_time": "2020-12-18T20:40:47.546600",
     "status": "completed"
    },
    "tags": []
   },
   "outputs": [],
   "source": [
    "# Adding the labels to the dataframe\n",
    "\n",
    "train_mf['target'] = train_df['target']"
   ]
  },
  {
   "cell_type": "code",
   "execution_count": 23,
   "metadata": {
    "execution": {
     "iopub.execute_input": "2020-12-18T20:40:47.827680Z",
     "iopub.status.busy": "2020-12-18T20:40:47.826579Z",
     "iopub.status.idle": "2020-12-18T20:40:47.832004Z",
     "shell.execute_reply": "2020-12-18T20:40:47.831308Z"
    },
    "papermill": {
     "duration": 0.106755,
     "end_time": "2020-12-18T20:40:47.832160",
     "exception": false,
     "start_time": "2020-12-18T20:40:47.725405",
     "status": "completed"
    },
    "tags": []
   },
   "outputs": [
    {
     "data": {
      "text/html": [
       "<div>\n",
       "<style scoped>\n",
       "    .dataframe tbody tr th:only-of-type {\n",
       "        vertical-align: middle;\n",
       "    }\n",
       "\n",
       "    .dataframe tbody tr th {\n",
       "        vertical-align: top;\n",
       "    }\n",
       "\n",
       "    .dataframe thead th {\n",
       "        text-align: right;\n",
       "    }\n",
       "</style>\n",
       "<table border=\"1\" class=\"dataframe\">\n",
       "  <thead>\n",
       "    <tr style=\"text-align: right;\">\n",
       "      <th></th>\n",
       "      <th>num_words</th>\n",
       "      <th>num_unique_words</th>\n",
       "      <th>char_count</th>\n",
       "      <th>stopword_count</th>\n",
       "      <th>punctuations_count</th>\n",
       "      <th>num_words_upper</th>\n",
       "      <th>num_words_title</th>\n",
       "      <th>mean_word_len</th>\n",
       "      <th>lower_question_text</th>\n",
       "      <th>num_exclamation_marks</th>\n",
       "      <th>num_question_marks</th>\n",
       "      <th>num_symbols</th>\n",
       "      <th>num_smilies</th>\n",
       "      <th>num_sad</th>\n",
       "      <th>target</th>\n",
       "    </tr>\n",
       "  </thead>\n",
       "  <tbody>\n",
       "    <tr>\n",
       "      <th>0</th>\n",
       "      <td>24</td>\n",
       "      <td>22</td>\n",
       "      <td>137</td>\n",
       "      <td>13</td>\n",
       "      <td>8</td>\n",
       "      <td>2</td>\n",
       "      <td>6</td>\n",
       "      <td>4.750000</td>\n",
       "      <td>how can i reply to this comment, \"india is poo...</td>\n",
       "      <td>0</td>\n",
       "      <td>1</td>\n",
       "      <td>0</td>\n",
       "      <td>0</td>\n",
       "      <td>0</td>\n",
       "      <td>0</td>\n",
       "    </tr>\n",
       "    <tr>\n",
       "      <th>1</th>\n",
       "      <td>9</td>\n",
       "      <td>9</td>\n",
       "      <td>54</td>\n",
       "      <td>5</td>\n",
       "      <td>1</td>\n",
       "      <td>0</td>\n",
       "      <td>3</td>\n",
       "      <td>5.111111</td>\n",
       "      <td>what did they use for transportation in ancien...</td>\n",
       "      <td>0</td>\n",
       "      <td>1</td>\n",
       "      <td>0</td>\n",
       "      <td>0</td>\n",
       "      <td>0</td>\n",
       "      <td>0</td>\n",
       "    </tr>\n",
       "    <tr>\n",
       "      <th>2</th>\n",
       "      <td>8</td>\n",
       "      <td>8</td>\n",
       "      <td>52</td>\n",
       "      <td>5</td>\n",
       "      <td>1</td>\n",
       "      <td>0</td>\n",
       "      <td>2</td>\n",
       "      <td>5.625000</td>\n",
       "      <td>what are the most important provisions of obam...</td>\n",
       "      <td>0</td>\n",
       "      <td>1</td>\n",
       "      <td>0</td>\n",
       "      <td>0</td>\n",
       "      <td>0</td>\n",
       "      <td>0</td>\n",
       "    </tr>\n",
       "    <tr>\n",
       "      <th>3</th>\n",
       "      <td>9</td>\n",
       "      <td>9</td>\n",
       "      <td>47</td>\n",
       "      <td>4</td>\n",
       "      <td>1</td>\n",
       "      <td>0</td>\n",
       "      <td>3</td>\n",
       "      <td>4.333333</td>\n",
       "      <td>at what age do most finns master english today?</td>\n",
       "      <td>0</td>\n",
       "      <td>1</td>\n",
       "      <td>0</td>\n",
       "      <td>0</td>\n",
       "      <td>0</td>\n",
       "      <td>0</td>\n",
       "    </tr>\n",
       "    <tr>\n",
       "      <th>4</th>\n",
       "      <td>17</td>\n",
       "      <td>16</td>\n",
       "      <td>88</td>\n",
       "      <td>7</td>\n",
       "      <td>1</td>\n",
       "      <td>0</td>\n",
       "      <td>2</td>\n",
       "      <td>4.235294</td>\n",
       "      <td>what is cheapest place to live in india for on...</td>\n",
       "      <td>0</td>\n",
       "      <td>1</td>\n",
       "      <td>0</td>\n",
       "      <td>0</td>\n",
       "      <td>0</td>\n",
       "      <td>0</td>\n",
       "    </tr>\n",
       "  </tbody>\n",
       "</table>\n",
       "</div>"
      ],
      "text/plain": [
       "   num_words  num_unique_words  char_count  stopword_count  \\\n",
       "0         24                22         137              13   \n",
       "1          9                 9          54               5   \n",
       "2          8                 8          52               5   \n",
       "3          9                 9          47               4   \n",
       "4         17                16          88               7   \n",
       "\n",
       "   punctuations_count  num_words_upper  num_words_title  mean_word_len  \\\n",
       "0                   8                2                6       4.750000   \n",
       "1                   1                0                3       5.111111   \n",
       "2                   1                0                2       5.625000   \n",
       "3                   1                0                3       4.333333   \n",
       "4                   1                0                2       4.235294   \n",
       "\n",
       "                                 lower_question_text  num_exclamation_marks  \\\n",
       "0  how can i reply to this comment, \"india is poo...                      0   \n",
       "1  what did they use for transportation in ancien...                      0   \n",
       "2  what are the most important provisions of obam...                      0   \n",
       "3    at what age do most finns master english today?                      0   \n",
       "4  what is cheapest place to live in india for on...                      0   \n",
       "\n",
       "   num_question_marks  num_symbols  num_smilies  num_sad  target  \n",
       "0                   1            0            0        0       0  \n",
       "1                   1            0            0        0       0  \n",
       "2                   1            0            0        0       0  \n",
       "3                   1            0            0        0       0  \n",
       "4                   1            0            0        0       0  "
      ]
     },
     "execution_count": 23,
     "metadata": {},
     "output_type": "execute_result"
    }
   ],
   "source": [
    "train_mf.head()"
   ]
  },
  {
   "cell_type": "markdown",
   "metadata": {
    "papermill": {
     "duration": 0.082462,
     "end_time": "2020-12-18T20:40:48.000086",
     "exception": false,
     "start_time": "2020-12-18T20:40:47.917624",
     "status": "completed"
    },
    "tags": []
   },
   "source": [
    "**Saving the computed metafeatures as csv file**"
   ]
  },
  {
   "cell_type": "code",
   "execution_count": 24,
   "metadata": {
    "execution": {
     "iopub.execute_input": "2020-12-18T20:40:48.174553Z",
     "iopub.status.busy": "2020-12-18T20:40:48.173780Z",
     "iopub.status.idle": "2020-12-18T20:40:56.696237Z",
     "shell.execute_reply": "2020-12-18T20:40:56.696821Z"
    },
    "papermill": {
     "duration": 8.611324,
     "end_time": "2020-12-18T20:40:56.696996",
     "exception": false,
     "start_time": "2020-12-18T20:40:48.085672",
     "status": "completed"
    },
    "tags": []
   },
   "outputs": [],
   "source": [
    "train_mf.to_csv(\"Train_metafeatures.csv\")"
   ]
  },
  {
   "cell_type": "code",
   "execution_count": 25,
   "metadata": {
    "execution": {
     "iopub.execute_input": "2020-12-18T20:40:56.867891Z",
     "iopub.status.busy": "2020-12-18T20:40:56.866654Z",
     "iopub.status.idle": "2020-12-18T20:40:57.645251Z",
     "shell.execute_reply": "2020-12-18T20:40:57.644646Z"
    },
    "papermill": {
     "duration": 0.867872,
     "end_time": "2020-12-18T20:40:57.645385",
     "exception": false,
     "start_time": "2020-12-18T20:40:56.777513",
     "status": "completed"
    },
    "tags": []
   },
   "outputs": [
    {
     "name": "stdout",
     "output_type": "stream",
     "text": [
      "Outliers_submission-mf.csv  __notebook__.ipynb  \u001b[0m\u001b[01;34m__results___files\u001b[0m/\r\n",
      "Test_metafeatures.csv       __output__.json     custom.css\r\n",
      "Train_metafeatures.csv      __results__.html\r\n"
     ]
    }
   ],
   "source": [
    "ls /kaggle/input/qiqc-metafeatures"
   ]
  },
  {
   "cell_type": "markdown",
   "metadata": {
    "papermill": {
     "duration": 0.080618,
     "end_time": "2020-12-18T20:40:57.809517",
     "exception": false,
     "start_time": "2020-12-18T20:40:57.728899",
     "status": "completed"
    },
    "tags": []
   },
   "source": [
    "**Computing metafeatures for the test dataset**"
   ]
  },
  {
   "cell_type": "code",
   "execution_count": 26,
   "metadata": {
    "execution": {
     "iopub.execute_input": "2020-12-18T20:40:57.977758Z",
     "iopub.status.busy": "2020-12-18T20:40:57.976746Z",
     "iopub.status.idle": "2020-12-18T20:40:57.980260Z",
     "shell.execute_reply": "2020-12-18T20:40:57.979587Z"
    },
    "papermill": {
     "duration": 0.090335,
     "end_time": "2020-12-18T20:40:57.980381",
     "exception": false,
     "start_time": "2020-12-18T20:40:57.890046",
     "status": "completed"
    },
    "tags": []
   },
   "outputs": [],
   "source": [
    "test_mf = pd.DataFrame()"
   ]
  },
  {
   "cell_type": "code",
   "execution_count": 27,
   "metadata": {
    "execution": {
     "iopub.execute_input": "2020-12-18T20:40:58.151991Z",
     "iopub.status.busy": "2020-12-18T20:40:58.151122Z",
     "iopub.status.idle": "2020-12-18T20:40:59.236291Z",
     "shell.execute_reply": "2020-12-18T20:40:59.236863Z"
    },
    "papermill": {
     "duration": 1.171232,
     "end_time": "2020-12-18T20:40:59.237010",
     "exception": false,
     "start_time": "2020-12-18T20:40:58.065778",
     "status": "completed"
    },
    "tags": []
   },
   "outputs": [],
   "source": [
    "test_mf[\"num_words\"] = test_df[\"question_text\"].apply(lambda x: len(str(x).split()))"
   ]
  },
  {
   "cell_type": "code",
   "execution_count": 28,
   "metadata": {
    "execution": {
     "iopub.execute_input": "2020-12-18T20:40:59.406277Z",
     "iopub.status.busy": "2020-12-18T20:40:59.405588Z",
     "iopub.status.idle": "2020-12-18T20:41:01.085834Z",
     "shell.execute_reply": "2020-12-18T20:41:01.086392Z"
    },
    "papermill": {
     "duration": 1.768017,
     "end_time": "2020-12-18T20:41:01.086575",
     "exception": false,
     "start_time": "2020-12-18T20:40:59.318558",
     "status": "completed"
    },
    "tags": []
   },
   "outputs": [],
   "source": [
    "## Number of unique words in the text ##\n",
    "test_mf[\"num_unique_words\"] = test_df[\"question_text\"].apply(lambda x: len(set(str(x).split())))"
   ]
  },
  {
   "cell_type": "code",
   "execution_count": 29,
   "metadata": {
    "execution": {
     "iopub.execute_input": "2020-12-18T20:41:01.254500Z",
     "iopub.status.busy": "2020-12-18T20:41:01.253751Z",
     "iopub.status.idle": "2020-12-18T20:41:01.717826Z",
     "shell.execute_reply": "2020-12-18T20:41:01.718408Z"
    },
    "papermill": {
     "duration": 0.550163,
     "end_time": "2020-12-18T20:41:01.718563",
     "exception": false,
     "start_time": "2020-12-18T20:41:01.168400",
     "status": "completed"
    },
    "tags": []
   },
   "outputs": [],
   "source": [
    "## Number of characters in the text ##\n",
    "test_mf[\"char_count\"] = test_df[\"question_text\"].apply(lambda x: len(str(x)))"
   ]
  },
  {
   "cell_type": "code",
   "execution_count": 30,
   "metadata": {
    "execution": {
     "iopub.execute_input": "2020-12-18T20:41:01.905211Z",
     "iopub.status.busy": "2020-12-18T20:41:01.903914Z",
     "iopub.status.idle": "2020-12-18T20:41:16.858619Z",
     "shell.execute_reply": "2020-12-18T20:41:16.857987Z"
    },
    "papermill": {
     "duration": 15.057454,
     "end_time": "2020-12-18T20:41:16.858765",
     "exception": false,
     "start_time": "2020-12-18T20:41:01.801311",
     "status": "completed"
    },
    "tags": []
   },
   "outputs": [],
   "source": [
    "from nltk.corpus import stopwords\n",
    "stop_words = stopwords.words('english')\n",
    "\n",
    "## Number of stopwords in the text ##\n",
    "test_mf[\"stopword_count\"] = test_df[\"question_text\"].apply(lambda x: len([w for w in str(x).lower().split() if w in stop_words]))"
   ]
  },
  {
   "cell_type": "code",
   "execution_count": 31,
   "metadata": {
    "execution": {
     "iopub.execute_input": "2020-12-18T20:41:17.053270Z",
     "iopub.status.busy": "2020-12-18T20:41:17.048008Z",
     "iopub.status.idle": "2020-12-18T20:41:20.998390Z",
     "shell.execute_reply": "2020-12-18T20:41:20.997731Z"
    },
    "papermill": {
     "duration": 4.05312,
     "end_time": "2020-12-18T20:41:20.998533",
     "exception": false,
     "start_time": "2020-12-18T20:41:16.945413",
     "status": "completed"
    },
    "tags": []
   },
   "outputs": [],
   "source": [
    "import string\n",
    "\n",
    "## Number of punctuations in the text ##\n",
    "test_mf[\"punctuations_count\"] = test_df[\"question_text\"].apply(lambda x: len([c for c in str(x) if c in string.punctuation]) )"
   ]
  },
  {
   "cell_type": "code",
   "execution_count": 32,
   "metadata": {
    "execution": {
     "iopub.execute_input": "2020-12-18T20:41:21.180563Z",
     "iopub.status.busy": "2020-12-18T20:41:21.179369Z",
     "iopub.status.idle": "2020-12-18T20:41:22.789334Z",
     "shell.execute_reply": "2020-12-18T20:41:22.788461Z"
    },
    "papermill": {
     "duration": 1.708474,
     "end_time": "2020-12-18T20:41:22.789469",
     "exception": false,
     "start_time": "2020-12-18T20:41:21.080995",
     "status": "completed"
    },
    "tags": []
   },
   "outputs": [],
   "source": [
    "## Number of title case words in the text ##\n",
    "test_mf[\"num_words_upper\"] = test_df[\"question_text\"].apply(lambda x: len([w for w in str(x).split() if w.isupper()]))"
   ]
  },
  {
   "cell_type": "code",
   "execution_count": 33,
   "metadata": {
    "execution": {
     "iopub.execute_input": "2020-12-18T20:41:22.988327Z",
     "iopub.status.busy": "2020-12-18T20:41:22.983128Z",
     "iopub.status.idle": "2020-12-18T20:41:24.782248Z",
     "shell.execute_reply": "2020-12-18T20:41:24.783129Z"
    },
    "papermill": {
     "duration": 1.9033,
     "end_time": "2020-12-18T20:41:24.783303",
     "exception": false,
     "start_time": "2020-12-18T20:41:22.880003",
     "status": "completed"
    },
    "tags": []
   },
   "outputs": [],
   "source": [
    "## Number of title case words in the text ##\n",
    "test_mf[\"num_words_title\"] = test_df[\"question_text\"].apply(lambda x: len([w for w in str(x).split() if w.istitle()]))"
   ]
  },
  {
   "cell_type": "code",
   "execution_count": 34,
   "metadata": {
    "execution": {
     "iopub.execute_input": "2020-12-18T20:41:24.980427Z",
     "iopub.status.busy": "2020-12-18T20:41:24.966079Z",
     "iopub.status.idle": "2020-12-18T20:41:36.927702Z",
     "shell.execute_reply": "2020-12-18T20:41:36.926178Z"
    },
    "papermill": {
     "duration": 12.05721,
     "end_time": "2020-12-18T20:41:36.927843",
     "exception": false,
     "start_time": "2020-12-18T20:41:24.870633",
     "status": "completed"
    },
    "tags": []
   },
   "outputs": [],
   "source": [
    "## Average length of the words in the text ##\n",
    "test_mf[\"mean_word_len\"] = test_df[\"question_text\"].apply(lambda x: np.mean([len(w) for w in str(x).split()]))"
   ]
  },
  {
   "cell_type": "code",
   "execution_count": 35,
   "metadata": {
    "execution": {
     "iopub.execute_input": "2020-12-18T20:41:37.123331Z",
     "iopub.status.busy": "2020-12-18T20:41:37.107645Z",
     "iopub.status.idle": "2020-12-18T20:41:37.408529Z",
     "shell.execute_reply": "2020-12-18T20:41:37.407724Z"
    },
    "papermill": {
     "duration": 0.399494,
     "end_time": "2020-12-18T20:41:37.408665",
     "exception": false,
     "start_time": "2020-12-18T20:41:37.009171",
     "status": "completed"
    },
    "tags": []
   },
   "outputs": [],
   "source": [
    "test_mf[\"lower_question_text\"] = test_df[\"question_text\"].apply(lambda x: x.lower())"
   ]
  },
  {
   "cell_type": "code",
   "execution_count": 36,
   "metadata": {
    "execution": {
     "iopub.execute_input": "2020-12-18T20:41:37.600220Z",
     "iopub.status.busy": "2020-12-18T20:41:37.593033Z",
     "iopub.status.idle": "2020-12-18T20:41:38.050405Z",
     "shell.execute_reply": "2020-12-18T20:41:38.049626Z"
    },
    "papermill": {
     "duration": 0.558541,
     "end_time": "2020-12-18T20:41:38.050548",
     "exception": false,
     "start_time": "2020-12-18T20:41:37.492007",
     "status": "completed"
    },
    "tags": []
   },
   "outputs": [],
   "source": [
    "test_mf['num_exclamation_marks'] = test_df['question_text'].apply(lambda comment: comment.count('!'))"
   ]
  },
  {
   "cell_type": "code",
   "execution_count": 37,
   "metadata": {
    "execution": {
     "iopub.execute_input": "2020-12-18T20:41:38.251651Z",
     "iopub.status.busy": "2020-12-18T20:41:38.244766Z",
     "iopub.status.idle": "2020-12-18T20:41:38.702691Z",
     "shell.execute_reply": "2020-12-18T20:41:38.701835Z"
    },
    "papermill": {
     "duration": 0.56307,
     "end_time": "2020-12-18T20:41:38.702826",
     "exception": false,
     "start_time": "2020-12-18T20:41:38.139756",
     "status": "completed"
    },
    "tags": []
   },
   "outputs": [],
   "source": [
    "test_mf['num_question_marks'] = test_df['question_text'].apply(lambda comment: comment.count('?'))"
   ]
  },
  {
   "cell_type": "code",
   "execution_count": 38,
   "metadata": {
    "execution": {
     "iopub.execute_input": "2020-12-18T20:41:38.889776Z",
     "iopub.status.busy": "2020-12-18T20:41:38.877952Z",
     "iopub.status.idle": "2020-12-18T20:41:40.064065Z",
     "shell.execute_reply": "2020-12-18T20:41:40.063286Z"
    },
    "papermill": {
     "duration": 1.275457,
     "end_time": "2020-12-18T20:41:40.064211",
     "exception": false,
     "start_time": "2020-12-18T20:41:38.788754",
     "status": "completed"
    },
    "tags": []
   },
   "outputs": [],
   "source": [
    "test_mf['num_symbols'] = test_df['question_text'].apply(lambda comment: sum(comment.count(w) for w in '*&$%'))"
   ]
  },
  {
   "cell_type": "code",
   "execution_count": 39,
   "metadata": {
    "execution": {
     "iopub.execute_input": "2020-12-18T20:41:40.251943Z",
     "iopub.status.busy": "2020-12-18T20:41:40.239928Z",
     "iopub.status.idle": "2020-12-18T20:41:41.455818Z",
     "shell.execute_reply": "2020-12-18T20:41:41.455174Z"
    },
    "papermill": {
     "duration": 1.306463,
     "end_time": "2020-12-18T20:41:41.455947",
     "exception": false,
     "start_time": "2020-12-18T20:41:40.149484",
     "status": "completed"
    },
    "tags": []
   },
   "outputs": [],
   "source": [
    "test_mf['num_smilies'] = test_df['question_text'].apply(lambda comment: sum(comment.count(w) for w in (':-)', ':)', ';-)', ';)')))"
   ]
  },
  {
   "cell_type": "code",
   "execution_count": 40,
   "metadata": {
    "execution": {
     "iopub.execute_input": "2020-12-18T20:41:41.644173Z",
     "iopub.status.busy": "2020-12-18T20:41:41.631371Z",
     "iopub.status.idle": "2020-12-18T20:41:42.829512Z",
     "shell.execute_reply": "2020-12-18T20:41:42.828866Z"
    },
    "papermill": {
     "duration": 1.287885,
     "end_time": "2020-12-18T20:41:42.829647",
     "exception": false,
     "start_time": "2020-12-18T20:41:41.541762",
     "status": "completed"
    },
    "tags": []
   },
   "outputs": [],
   "source": [
    "test_mf['num_sad'] = test_df['question_text'].apply(lambda comment: sum(comment.count(w) for w in (':-<', ':()', ';-()', ';(')))\n"
   ]
  },
  {
   "cell_type": "markdown",
   "metadata": {
    "papermill": {
     "duration": 0.083005,
     "end_time": "2020-12-18T20:41:42.998870",
     "exception": false,
     "start_time": "2020-12-18T20:41:42.915865",
     "status": "completed"
    },
    "tags": []
   },
   "source": [
    "**Saving the computed metafeatures as csv file**"
   ]
  },
  {
   "cell_type": "code",
   "execution_count": 41,
   "metadata": {
    "execution": {
     "iopub.execute_input": "2020-12-18T20:41:43.177276Z",
     "iopub.status.busy": "2020-12-18T20:41:43.176124Z",
     "iopub.status.idle": "2020-12-18T20:41:48.610857Z",
     "shell.execute_reply": "2020-12-18T20:41:48.611402Z"
    },
    "papermill": {
     "duration": 5.526887,
     "end_time": "2020-12-18T20:41:48.611583",
     "exception": false,
     "start_time": "2020-12-18T20:41:43.084696",
     "status": "completed"
    },
    "tags": []
   },
   "outputs": [],
   "source": [
    "test_mf.to_csv(\"Test_metafeatures.csv\")"
   ]
  },
  {
   "cell_type": "markdown",
   "metadata": {
    "papermill": {
     "duration": 0.084302,
     "end_time": "2020-12-18T20:41:48.786831",
     "exception": false,
     "start_time": "2020-12-18T20:41:48.702529",
     "status": "completed"
    },
    "tags": []
   },
   "source": [
    "# Exploratory Data Analysis of the Meta Features"
   ]
  },
  {
   "cell_type": "code",
   "execution_count": 42,
   "metadata": {
    "execution": {
     "iopub.execute_input": "2020-12-18T20:41:48.962321Z",
     "iopub.status.busy": "2020-12-18T20:41:48.961611Z",
     "iopub.status.idle": "2020-12-18T20:41:48.981133Z",
     "shell.execute_reply": "2020-12-18T20:41:48.980542Z"
    },
    "papermill": {
     "duration": 0.110537,
     "end_time": "2020-12-18T20:41:48.981295",
     "exception": false,
     "start_time": "2020-12-18T20:41:48.870758",
     "status": "completed"
    },
    "tags": []
   },
   "outputs": [
    {
     "data": {
      "text/html": [
       "<div>\n",
       "<style scoped>\n",
       "    .dataframe tbody tr th:only-of-type {\n",
       "        vertical-align: middle;\n",
       "    }\n",
       "\n",
       "    .dataframe tbody tr th {\n",
       "        vertical-align: top;\n",
       "    }\n",
       "\n",
       "    .dataframe thead th {\n",
       "        text-align: right;\n",
       "    }\n",
       "</style>\n",
       "<table border=\"1\" class=\"dataframe\">\n",
       "  <thead>\n",
       "    <tr style=\"text-align: right;\">\n",
       "      <th></th>\n",
       "      <th>num_words</th>\n",
       "      <th>num_unique_words</th>\n",
       "      <th>char_count</th>\n",
       "      <th>stopword_count</th>\n",
       "      <th>punctuations_count</th>\n",
       "      <th>num_words_upper</th>\n",
       "      <th>num_words_title</th>\n",
       "      <th>mean_word_len</th>\n",
       "      <th>lower_question_text</th>\n",
       "      <th>num_exclamation_marks</th>\n",
       "      <th>num_question_marks</th>\n",
       "      <th>num_symbols</th>\n",
       "      <th>num_smilies</th>\n",
       "      <th>num_sad</th>\n",
       "      <th>target</th>\n",
       "    </tr>\n",
       "  </thead>\n",
       "  <tbody>\n",
       "    <tr>\n",
       "      <th>0</th>\n",
       "      <td>24</td>\n",
       "      <td>22</td>\n",
       "      <td>137</td>\n",
       "      <td>13</td>\n",
       "      <td>8</td>\n",
       "      <td>2</td>\n",
       "      <td>6</td>\n",
       "      <td>4.750000</td>\n",
       "      <td>how can i reply to this comment, \"india is poo...</td>\n",
       "      <td>0</td>\n",
       "      <td>1</td>\n",
       "      <td>0</td>\n",
       "      <td>0</td>\n",
       "      <td>0</td>\n",
       "      <td>0</td>\n",
       "    </tr>\n",
       "    <tr>\n",
       "      <th>1</th>\n",
       "      <td>9</td>\n",
       "      <td>9</td>\n",
       "      <td>54</td>\n",
       "      <td>5</td>\n",
       "      <td>1</td>\n",
       "      <td>0</td>\n",
       "      <td>3</td>\n",
       "      <td>5.111111</td>\n",
       "      <td>what did they use for transportation in ancien...</td>\n",
       "      <td>0</td>\n",
       "      <td>1</td>\n",
       "      <td>0</td>\n",
       "      <td>0</td>\n",
       "      <td>0</td>\n",
       "      <td>0</td>\n",
       "    </tr>\n",
       "    <tr>\n",
       "      <th>2</th>\n",
       "      <td>8</td>\n",
       "      <td>8</td>\n",
       "      <td>52</td>\n",
       "      <td>5</td>\n",
       "      <td>1</td>\n",
       "      <td>0</td>\n",
       "      <td>2</td>\n",
       "      <td>5.625000</td>\n",
       "      <td>what are the most important provisions of obam...</td>\n",
       "      <td>0</td>\n",
       "      <td>1</td>\n",
       "      <td>0</td>\n",
       "      <td>0</td>\n",
       "      <td>0</td>\n",
       "      <td>0</td>\n",
       "    </tr>\n",
       "    <tr>\n",
       "      <th>3</th>\n",
       "      <td>9</td>\n",
       "      <td>9</td>\n",
       "      <td>47</td>\n",
       "      <td>4</td>\n",
       "      <td>1</td>\n",
       "      <td>0</td>\n",
       "      <td>3</td>\n",
       "      <td>4.333333</td>\n",
       "      <td>at what age do most finns master english today?</td>\n",
       "      <td>0</td>\n",
       "      <td>1</td>\n",
       "      <td>0</td>\n",
       "      <td>0</td>\n",
       "      <td>0</td>\n",
       "      <td>0</td>\n",
       "    </tr>\n",
       "    <tr>\n",
       "      <th>4</th>\n",
       "      <td>17</td>\n",
       "      <td>16</td>\n",
       "      <td>88</td>\n",
       "      <td>7</td>\n",
       "      <td>1</td>\n",
       "      <td>0</td>\n",
       "      <td>2</td>\n",
       "      <td>4.235294</td>\n",
       "      <td>what is cheapest place to live in india for on...</td>\n",
       "      <td>0</td>\n",
       "      <td>1</td>\n",
       "      <td>0</td>\n",
       "      <td>0</td>\n",
       "      <td>0</td>\n",
       "      <td>0</td>\n",
       "    </tr>\n",
       "  </tbody>\n",
       "</table>\n",
       "</div>"
      ],
      "text/plain": [
       "   num_words  num_unique_words  char_count  stopword_count  \\\n",
       "0         24                22         137              13   \n",
       "1          9                 9          54               5   \n",
       "2          8                 8          52               5   \n",
       "3          9                 9          47               4   \n",
       "4         17                16          88               7   \n",
       "\n",
       "   punctuations_count  num_words_upper  num_words_title  mean_word_len  \\\n",
       "0                   8                2                6       4.750000   \n",
       "1                   1                0                3       5.111111   \n",
       "2                   1                0                2       5.625000   \n",
       "3                   1                0                3       4.333333   \n",
       "4                   1                0                2       4.235294   \n",
       "\n",
       "                                 lower_question_text  num_exclamation_marks  \\\n",
       "0  how can i reply to this comment, \"india is poo...                      0   \n",
       "1  what did they use for transportation in ancien...                      0   \n",
       "2  what are the most important provisions of obam...                      0   \n",
       "3    at what age do most finns master english today?                      0   \n",
       "4  what is cheapest place to live in india for on...                      0   \n",
       "\n",
       "   num_question_marks  num_symbols  num_smilies  num_sad  target  \n",
       "0                   1            0            0        0       0  \n",
       "1                   1            0            0        0       0  \n",
       "2                   1            0            0        0       0  \n",
       "3                   1            0            0        0       0  \n",
       "4                   1            0            0        0       0  "
      ]
     },
     "execution_count": 42,
     "metadata": {},
     "output_type": "execute_result"
    }
   ],
   "source": [
    "train_mf.head(5)"
   ]
  },
  {
   "cell_type": "code",
   "execution_count": 43,
   "metadata": {
    "execution": {
     "iopub.execute_input": "2020-12-18T20:41:49.161354Z",
     "iopub.status.busy": "2020-12-18T20:41:49.160590Z",
     "iopub.status.idle": "2020-12-18T20:41:49.335485Z",
     "shell.execute_reply": "2020-12-18T20:41:49.336039Z"
    },
    "papermill": {
     "duration": 0.26291,
     "end_time": "2020-12-18T20:41:49.336241",
     "exception": false,
     "start_time": "2020-12-18T20:41:49.073331",
     "status": "completed"
    },
    "tags": []
   },
   "outputs": [
    {
     "data": {
      "text/plain": [
       "num_words                0\n",
       "num_unique_words         0\n",
       "char_count               0\n",
       "stopword_count           0\n",
       "punctuations_count       0\n",
       "num_words_upper          0\n",
       "num_words_title          0\n",
       "mean_word_len            0\n",
       "lower_question_text      0\n",
       "num_exclamation_marks    0\n",
       "num_question_marks       0\n",
       "num_symbols              0\n",
       "num_smilies              0\n",
       "num_sad                  0\n",
       "target                   0\n",
       "dtype: int64"
      ]
     },
     "execution_count": 43,
     "metadata": {},
     "output_type": "execute_result"
    }
   ],
   "source": [
    "# Checking for null values\n",
    "\n",
    "train_mf.isnull().sum()"
   ]
  },
  {
   "cell_type": "code",
   "execution_count": 44,
   "metadata": {
    "execution": {
     "iopub.execute_input": "2020-12-18T20:41:49.513425Z",
     "iopub.status.busy": "2020-12-18T20:41:49.512653Z",
     "iopub.status.idle": "2020-12-18T20:41:49.610039Z",
     "shell.execute_reply": "2020-12-18T20:41:49.609458Z"
    },
    "papermill": {
     "duration": 0.1869,
     "end_time": "2020-12-18T20:41:49.610194",
     "exception": false,
     "start_time": "2020-12-18T20:41:49.423294",
     "status": "completed"
    },
    "tags": []
   },
   "outputs": [
    {
     "data": {
      "text/plain": [
       "num_words                0\n",
       "num_unique_words         0\n",
       "char_count               0\n",
       "stopword_count           0\n",
       "punctuations_count       0\n",
       "num_words_upper          0\n",
       "num_words_title          0\n",
       "mean_word_len            0\n",
       "lower_question_text      0\n",
       "num_exclamation_marks    0\n",
       "num_question_marks       0\n",
       "num_symbols              0\n",
       "num_smilies              0\n",
       "num_sad                  0\n",
       "dtype: int64"
      ]
     },
     "execution_count": 44,
     "metadata": {},
     "output_type": "execute_result"
    }
   ],
   "source": [
    "# Checking for null values in test dataset\n",
    "\n",
    "test_mf.isnull().sum()"
   ]
  },
  {
   "cell_type": "code",
   "execution_count": 45,
   "metadata": {
    "execution": {
     "iopub.execute_input": "2020-12-18T20:41:49.800778Z",
     "iopub.status.busy": "2020-12-18T20:41:49.789909Z",
     "iopub.status.idle": "2020-12-18T20:41:49.805534Z",
     "shell.execute_reply": "2020-12-18T20:41:49.806315Z"
    },
    "papermill": {
     "duration": 0.110947,
     "end_time": "2020-12-18T20:41:49.806474",
     "exception": false,
     "start_time": "2020-12-18T20:41:49.695527",
     "status": "completed"
    },
    "tags": []
   },
   "outputs": [
    {
     "data": {
      "text/html": [
       "<div>\n",
       "<style scoped>\n",
       "    .dataframe tbody tr th:only-of-type {\n",
       "        vertical-align: middle;\n",
       "    }\n",
       "\n",
       "    .dataframe tbody tr th {\n",
       "        vertical-align: top;\n",
       "    }\n",
       "\n",
       "    .dataframe thead th {\n",
       "        text-align: right;\n",
       "    }\n",
       "</style>\n",
       "<table border=\"1\" class=\"dataframe\">\n",
       "  <thead>\n",
       "    <tr style=\"text-align: right;\">\n",
       "      <th></th>\n",
       "      <th>num_words</th>\n",
       "      <th>num_unique_words</th>\n",
       "      <th>char_count</th>\n",
       "      <th>stopword_count</th>\n",
       "      <th>punctuations_count</th>\n",
       "      <th>num_words_upper</th>\n",
       "      <th>num_words_title</th>\n",
       "      <th>mean_word_len</th>\n",
       "      <th>lower_question_text</th>\n",
       "      <th>num_exclamation_marks</th>\n",
       "      <th>num_question_marks</th>\n",
       "      <th>num_symbols</th>\n",
       "      <th>num_smilies</th>\n",
       "      <th>num_sad</th>\n",
       "    </tr>\n",
       "  </thead>\n",
       "  <tbody>\n",
       "    <tr>\n",
       "      <th>0</th>\n",
       "      <td>26</td>\n",
       "      <td>24</td>\n",
       "      <td>132</td>\n",
       "      <td>13</td>\n",
       "      <td>2</td>\n",
       "      <td>0</td>\n",
       "      <td>2</td>\n",
       "      <td>4.115385</td>\n",
       "      <td>is it a good idea to go through a phlebotomy c...</td>\n",
       "      <td>0</td>\n",
       "      <td>2</td>\n",
       "      <td>0</td>\n",
       "      <td>0</td>\n",
       "      <td>0</td>\n",
       "    </tr>\n",
       "    <tr>\n",
       "      <th>1</th>\n",
       "      <td>17</td>\n",
       "      <td>16</td>\n",
       "      <td>89</td>\n",
       "      <td>8</td>\n",
       "      <td>2</td>\n",
       "      <td>1</td>\n",
       "      <td>2</td>\n",
       "      <td>4.294118</td>\n",
       "      <td>how can i fix a lead into a camlin compass to ...</td>\n",
       "      <td>0</td>\n",
       "      <td>1</td>\n",
       "      <td>0</td>\n",
       "      <td>0</td>\n",
       "      <td>0</td>\n",
       "    </tr>\n",
       "    <tr>\n",
       "      <th>2</th>\n",
       "      <td>7</td>\n",
       "      <td>7</td>\n",
       "      <td>35</td>\n",
       "      <td>4</td>\n",
       "      <td>1</td>\n",
       "      <td>0</td>\n",
       "      <td>1</td>\n",
       "      <td>4.142857</td>\n",
       "      <td>how many animes are there in world?</td>\n",
       "      <td>0</td>\n",
       "      <td>1</td>\n",
       "      <td>0</td>\n",
       "      <td>0</td>\n",
       "      <td>0</td>\n",
       "    </tr>\n",
       "    <tr>\n",
       "      <th>3</th>\n",
       "      <td>8</td>\n",
       "      <td>7</td>\n",
       "      <td>30</td>\n",
       "      <td>5</td>\n",
       "      <td>1</td>\n",
       "      <td>2</td>\n",
       "      <td>3</td>\n",
       "      <td>2.875000</td>\n",
       "      <td>how do i tell my family i cut?</td>\n",
       "      <td>0</td>\n",
       "      <td>1</td>\n",
       "      <td>0</td>\n",
       "      <td>0</td>\n",
       "      <td>0</td>\n",
       "    </tr>\n",
       "    <tr>\n",
       "      <th>4</th>\n",
       "      <td>11</td>\n",
       "      <td>11</td>\n",
       "      <td>58</td>\n",
       "      <td>6</td>\n",
       "      <td>1</td>\n",
       "      <td>1</td>\n",
       "      <td>2</td>\n",
       "      <td>4.363636</td>\n",
       "      <td>how do i save down my bitcoin image address fr...</td>\n",
       "      <td>0</td>\n",
       "      <td>1</td>\n",
       "      <td>0</td>\n",
       "      <td>0</td>\n",
       "      <td>0</td>\n",
       "    </tr>\n",
       "  </tbody>\n",
       "</table>\n",
       "</div>"
      ],
      "text/plain": [
       "   num_words  num_unique_words  char_count  stopword_count  \\\n",
       "0         26                24         132              13   \n",
       "1         17                16          89               8   \n",
       "2          7                 7          35               4   \n",
       "3          8                 7          30               5   \n",
       "4         11                11          58               6   \n",
       "\n",
       "   punctuations_count  num_words_upper  num_words_title  mean_word_len  \\\n",
       "0                   2                0                2       4.115385   \n",
       "1                   2                1                2       4.294118   \n",
       "2                   1                0                1       4.142857   \n",
       "3                   1                2                3       2.875000   \n",
       "4                   1                1                2       4.363636   \n",
       "\n",
       "                                 lower_question_text  num_exclamation_marks  \\\n",
       "0  is it a good idea to go through a phlebotomy c...                      0   \n",
       "1  how can i fix a lead into a camlin compass to ...                      0   \n",
       "2                how many animes are there in world?                      0   \n",
       "3                     how do i tell my family i cut?                      0   \n",
       "4  how do i save down my bitcoin image address fr...                      0   \n",
       "\n",
       "   num_question_marks  num_symbols  num_smilies  num_sad  \n",
       "0                   2            0            0        0  \n",
       "1                   1            0            0        0  \n",
       "2                   1            0            0        0  \n",
       "3                   1            0            0        0  \n",
       "4                   1            0            0        0  "
      ]
     },
     "execution_count": 45,
     "metadata": {},
     "output_type": "execute_result"
    }
   ],
   "source": [
    "test_mf.head(5)"
   ]
  },
  {
   "cell_type": "code",
   "execution_count": 46,
   "metadata": {
    "execution": {
     "iopub.execute_input": "2020-12-18T20:41:49.997321Z",
     "iopub.status.busy": "2020-12-18T20:41:49.996218Z",
     "iopub.status.idle": "2020-12-18T20:41:52.626539Z",
     "shell.execute_reply": "2020-12-18T20:41:52.625941Z"
    },
    "papermill": {
     "duration": 2.728822,
     "end_time": "2020-12-18T20:41:52.626673",
     "exception": false,
     "start_time": "2020-12-18T20:41:49.897851",
     "status": "completed"
    },
    "tags": []
   },
   "outputs": [
    {
     "data": {
      "image/png": "[encoded data removed]",
      "text/plain": [
       "<Figure size 1008x1008 with 16 Axes>"
      ]
     },
     "metadata": {
      "needs_background": "light"
     },
     "output_type": "display_data"
    }
   ],
   "source": [
    "# Plotting the distribution of features in traing set as histogram\n",
    "\n",
    "train_mf.hist(figsize=(14,14))\n",
    "plt.show()"
   ]
  },
  {
   "cell_type": "code",
   "execution_count": 47,
   "metadata": {
    "execution": {
     "iopub.execute_input": "2020-12-18T20:41:52.818346Z",
     "iopub.status.busy": "2020-12-18T20:41:52.817548Z",
     "iopub.status.idle": "2020-12-18T20:41:55.162918Z",
     "shell.execute_reply": "2020-12-18T20:41:55.163487Z"
    },
    "papermill": {
     "duration": 2.447985,
     "end_time": "2020-12-18T20:41:55.163648",
     "exception": false,
     "start_time": "2020-12-18T20:41:52.715663",
     "status": "completed"
    },
    "tags": []
   },
   "outputs": [
    {
     "data": {
      "image/png": "[encoded data removed]",
      "text/plain": [
       "<Figure size 1008x1008 with 16 Axes>"
      ]
     },
     "metadata": {
      "needs_background": "light"
     },
     "output_type": "display_data"
    }
   ],
   "source": [
    "# Plotting the distribution of features in test set as histogram\n",
    "\n",
    "test_mf.hist(figsize=(14,14))\n",
    "plt.show()"
   ]
  },
  {
   "cell_type": "code",
   "execution_count": 48,
   "metadata": {
    "execution": {
     "iopub.execute_input": "2020-12-18T20:41:55.347430Z",
     "iopub.status.busy": "2020-12-18T20:41:55.346703Z",
     "iopub.status.idle": "2020-12-18T20:41:55.353213Z",
     "shell.execute_reply": "2020-12-18T20:41:55.353698Z"
    },
    "papermill": {
     "duration": 0.101525,
     "end_time": "2020-12-18T20:41:55.353852",
     "exception": false,
     "start_time": "2020-12-18T20:41:55.252327",
     "status": "completed"
    },
    "tags": []
   },
   "outputs": [
    {
     "name": "stdout",
     "output_type": "stream",
     "text": [
      "Index(['num_words', 'num_unique_words', 'char_count', 'stopword_count',\n",
      "       'punctuations_count', 'num_words_upper', 'num_words_title',\n",
      "       'mean_word_len', 'lower_question_text', 'num_exclamation_marks',\n",
      "       'num_question_marks', 'num_symbols', 'num_smilies', 'num_sad',\n",
      "       'target'],\n",
      "      dtype='object')\n"
     ]
    }
   ],
   "source": [
    "# to check whether there are columns with no useful information\n",
    "\n",
    "print(train_mf.columns)"
   ]
  },
  {
   "cell_type": "code",
   "execution_count": 49,
   "metadata": {
    "execution": {
     "iopub.execute_input": "2020-12-18T20:41:55.578188Z",
     "iopub.status.busy": "2020-12-18T20:41:55.577082Z",
     "iopub.status.idle": "2020-12-18T20:42:40.930950Z",
     "shell.execute_reply": "2020-12-18T20:42:40.931545Z"
    },
    "papermill": {
     "duration": 45.46648,
     "end_time": "2020-12-18T20:42:40.931715",
     "exception": false,
     "start_time": "2020-12-18T20:41:55.465235",
     "status": "completed"
    },
    "tags": []
   },
   "outputs": [
    {
     "data": {
      "image/png": "[encoded data removed]",
      "text/plain": [
       "<Figure size 1008x1728 with 13 Axes>"
      ]
     },
     "metadata": {
      "needs_background": "light"
     },
     "output_type": "display_data"
    }
   ],
   "source": [
    "import seaborn as sns\n",
    "\n",
    "features = ['num_words', 'num_unique_words', 'char_count', 'stopword_count',\n",
    "       'punctuations_count', 'num_words_upper', 'num_words_title',\n",
    "       'mean_word_len', 'num_exclamation_marks', 'num_question_marks', 'num_symbols', 'num_smilies', 'num_sad',]\n",
    "\n",
    "fig = plt.figure(figsize=(14,24))\n",
    "for i in range(len(features)): \n",
    "    fig.add_subplot(4, 4, i+1) \n",
    "    ax = sns.countplot(y=features[i], data=train_mf)\n",
    "    plt.title(features[i])\n",
    "plt.tight_layout() \n",
    "plt.show()"
   ]
  },
  {
   "cell_type": "code",
   "execution_count": 50,
   "metadata": {
    "execution": {
     "iopub.execute_input": "2020-12-18T20:42:41.182383Z",
     "iopub.status.busy": "2020-12-18T20:42:41.181620Z",
     "iopub.status.idle": "2020-12-18T20:43:22.915659Z",
     "shell.execute_reply": "2020-12-18T20:43:22.916208Z"
    },
    "papermill": {
     "duration": 41.863186,
     "end_time": "2020-12-18T20:43:22.916431",
     "exception": false,
     "start_time": "2020-12-18T20:42:41.053245",
     "status": "completed"
    },
    "tags": []
   },
   "outputs": [
    {
     "data": {
      "image/png": "[encoded data removed]",
      "text/plain": [
       "<Figure size 432x288 with 1 Axes>"
      ]
     },
     "metadata": {
      "needs_background": "light"
     },
     "output_type": "display_data"
    },
    {
     "data": {
      "image/png": "[encoded data removed]",
      "text/plain": [
       "<Figure size 432x288 with 1 Axes>"
      ]
     },
     "metadata": {
      "needs_background": "light"
     },
     "output_type": "display_data"
    },
    {
     "data": {
      "image/png": "[encoded data removed]",
      "text/plain": [
       "<Figure size 432x288 with 1 Axes>"
      ]
     },
     "metadata": {
      "needs_background": "light"
     },
     "output_type": "display_data"
    },
    {
     "data": {
      "image/png": "[encoded data removed]",
      "text/plain": [
       "<Figure size 432x288 with 1 Axes>"
      ]
     },
     "metadata": {
      "needs_background": "light"
     },
     "output_type": "display_data"
    },
    {
     "data": {
      "image/png": "[encoded data removed]",
      "text/plain": [
       "<Figure size 432x288 with 1 Axes>"
      ]
     },
     "metadata": {
      "needs_background": "light"
     },
     "output_type": "display_data"
    },
    {
     "data": {
      "image/png": "[encoded data removed]",
      "text/plain": [
       "<Figure size 432x288 with 1 Axes>"
      ]
     },
     "metadata": {
      "needs_background": "light"
     },
     "output_type": "display_data"
    },
    {
     "data": {
      "image/png": "[encoded data removed]",
      "text/plain": [
       "<Figure size 432x288 with 1 Axes>"
      ]
     },
     "metadata": {
      "needs_background": "light"
     },
     "output_type": "display_data"
    },
    {
     "data": {
      "image/png": "[encoded data removed]",
      "text/plain": [
       "<Figure size 432x288 with 1 Axes>"
      ]
     },
     "metadata": {
      "needs_background": "light"
     },
     "output_type": "display_data"
    },
    {
     "data": {
      "image/png": "[encoded data removed]",
      "text/plain": [
       "<Figure size 432x288 with 1 Axes>"
      ]
     },
     "metadata": {
      "needs_background": "light"
     },
     "output_type": "display_data"
    },
    {
     "data": {
      "image/png": "[encoded data removed]",
      "text/plain": [
       "<Figure size 432x288 with 1 Axes>"
      ]
     },
     "metadata": {
      "needs_background": "light"
     },
     "output_type": "display_data"
    },
    {
     "data": {
      "image/png": "[encoded data removed]",
      "text/plain": [
       "<Figure size 432x288 with 1 Axes>"
      ]
     },
     "metadata": {
      "needs_background": "light"
     },
     "output_type": "display_data"
    },
    {
     "data": {
      "image/png": "[encoded data removed]",
      "text/plain": [
       "<Figure size 432x288 with 1 Axes>"
      ]
     },
     "metadata": {
      "needs_background": "light"
     },
     "output_type": "display_data"
    },
    {
     "data": {
      "image/png": "[encoded data removed]",
      "text/plain": [
       "<Figure size 432x288 with 1 Axes>"
      ]
     },
     "metadata": {
      "needs_background": "light"
     },
     "output_type": "display_data"
    }
   ],
   "source": [
    "import seaborn as sns\n",
    "\n",
    "features = ['num_words', 'num_unique_words', 'char_count', 'stopword_count',\n",
    "       'punctuations_count', 'num_words_upper', 'num_words_title',\n",
    "       'mean_word_len', 'num_exclamation_marks', 'num_question_marks', 'num_symbols', 'num_smilies', 'num_sad',]\n",
    "\n",
    "for feature in features:\n",
    "    sns.countplot(y=feature, data=train_mf)\n",
    "    plt.show()"
   ]
  },
  {
   "cell_type": "code",
   "execution_count": 51,
   "metadata": {
    "execution": {
     "iopub.execute_input": "2020-12-18T20:43:23.138886Z",
     "iopub.status.busy": "2020-12-18T20:43:23.138067Z",
     "iopub.status.idle": "2020-12-18T20:44:12.628206Z",
     "shell.execute_reply": "2020-12-18T20:44:12.628802Z"
    },
    "papermill": {
     "duration": 49.604496,
     "end_time": "2020-12-18T20:44:12.628980",
     "exception": false,
     "start_time": "2020-12-18T20:43:23.024484",
     "status": "completed"
    },
    "tags": []
   },
   "outputs": [
    {
     "ename": "RuntimeError",
     "evalue": "Selected KDE bandwidth is 0. Cannot estimate density.",
     "output_type": "error",
     "traceback": [
      "\u001b[0;31m---------------------------------------------------------------------------\u001b[0m",
      "\u001b[0;31mValueError\u001b[0m                                Traceback (most recent call last)",
      "\u001b[0;32m/opt/conda/lib/python3.7/site-packages/statsmodels/nonparametric/kde.py\u001b[0m in \u001b[0;36mkdensityfft\u001b[0;34m(X, kernel, bw, weights, gridsize, adjust, clip, cut, retgrid)\u001b[0m\n\u001b[1;32m    450\u001b[0m     \u001b[0;32mtry\u001b[0m\u001b[0;34m:\u001b[0m\u001b[0;34m\u001b[0m\u001b[0;34m\u001b[0m\u001b[0m\n\u001b[0;32m--> 451\u001b[0;31m         \u001b[0mbw\u001b[0m \u001b[0;34m=\u001b[0m \u001b[0mfloat\u001b[0m\u001b[0;34m(\u001b[0m\u001b[0mbw\u001b[0m\u001b[0;34m)\u001b[0m\u001b[0;34m\u001b[0m\u001b[0;34m\u001b[0m\u001b[0m\n\u001b[0m\u001b[1;32m    452\u001b[0m     \u001b[0;32mexcept\u001b[0m\u001b[0;34m:\u001b[0m\u001b[0;34m\u001b[0m\u001b[0;34m\u001b[0m\u001b[0m\n",
      "\u001b[0;31mValueError\u001b[0m: could not convert string to float: 'scott'",
      "\nDuring handling of the above exception, another exception occurred:\n",
      "\u001b[0;31mRuntimeError\u001b[0m                              Traceback (most recent call last)",
      "\u001b[0;32m<timed eval>\u001b[0m in \u001b[0;36m<module>\u001b[0;34m\u001b[0m\n",
      "\u001b[0;32m/opt/conda/lib/python3.7/site-packages/seaborn/axisgrid.py\u001b[0m in \u001b[0;36mpairplot\u001b[0;34m(data, hue, hue_order, palette, vars, x_vars, y_vars, kind, diag_kind, markers, height, aspect, corner, dropna, plot_kws, diag_kws, grid_kws, size)\u001b[0m\n\u001b[1;32m   2119\u001b[0m             \u001b[0mdiag_kws\u001b[0m\u001b[0;34m.\u001b[0m\u001b[0msetdefault\u001b[0m\u001b[0;34m(\u001b[0m\u001b[0;34m\"shade\"\u001b[0m\u001b[0;34m,\u001b[0m \u001b[0;32mTrue\u001b[0m\u001b[0;34m)\u001b[0m\u001b[0;34m\u001b[0m\u001b[0;34m\u001b[0m\u001b[0m\n\u001b[1;32m   2120\u001b[0m             \u001b[0mdiag_kws\u001b[0m\u001b[0;34m[\u001b[0m\u001b[0;34m\"legend\"\u001b[0m\u001b[0;34m]\u001b[0m \u001b[0;34m=\u001b[0m \u001b[0;32mFalse\u001b[0m\u001b[0;34m\u001b[0m\u001b[0;34m\u001b[0m\u001b[0m\n\u001b[0;32m-> 2121\u001b[0;31m             \u001b[0mgrid\u001b[0m\u001b[0;34m.\u001b[0m\u001b[0mmap_diag\u001b[0m\u001b[0;34m(\u001b[0m\u001b[0mkdeplot\u001b[0m\u001b[0;34m,\u001b[0m \u001b[0;34m**\u001b[0m\u001b[0mdiag_kws\u001b[0m\u001b[0;34m)\u001b[0m\u001b[0;34m\u001b[0m\u001b[0;34m\u001b[0m\u001b[0m\n\u001b[0m\u001b[1;32m   2122\u001b[0m \u001b[0;34m\u001b[0m\u001b[0m\n\u001b[1;32m   2123\u001b[0m     \u001b[0;31m# Maybe plot on the off-diagonals\u001b[0m\u001b[0;34m\u001b[0m\u001b[0;34m\u001b[0m\u001b[0;34m\u001b[0m\u001b[0m\n",
      "\u001b[0;32m/opt/conda/lib/python3.7/site-packages/seaborn/axisgrid.py\u001b[0m in \u001b[0;36mmap_diag\u001b[0;34m(self, func, **kwargs)\u001b[0m\n\u001b[1;32m   1488\u001b[0m                     \u001b[0mdata_k\u001b[0m \u001b[0;34m=\u001b[0m \u001b[0mutils\u001b[0m\u001b[0;34m.\u001b[0m\u001b[0mremove_na\u001b[0m\u001b[0;34m(\u001b[0m\u001b[0mdata_k\u001b[0m\u001b[0;34m)\u001b[0m\u001b[0;34m\u001b[0m\u001b[0;34m\u001b[0m\u001b[0m\n\u001b[1;32m   1489\u001b[0m \u001b[0;34m\u001b[0m\u001b[0m\n\u001b[0;32m-> 1490\u001b[0;31m                 \u001b[0mfunc\u001b[0m\u001b[0;34m(\u001b[0m\u001b[0mdata_k\u001b[0m\u001b[0;34m,\u001b[0m \u001b[0mlabel\u001b[0m\u001b[0;34m=\u001b[0m\u001b[0mlabel_k\u001b[0m\u001b[0;34m,\u001b[0m \u001b[0mcolor\u001b[0m\u001b[0;34m=\u001b[0m\u001b[0mcolor\u001b[0m\u001b[0;34m,\u001b[0m \u001b[0;34m**\u001b[0m\u001b[0mkwargs\u001b[0m\u001b[0;34m)\u001b[0m\u001b[0;34m\u001b[0m\u001b[0;34m\u001b[0m\u001b[0m\n\u001b[0m\u001b[1;32m   1491\u001b[0m \u001b[0;34m\u001b[0m\u001b[0m\n\u001b[1;32m   1492\u001b[0m             \u001b[0mself\u001b[0m\u001b[0;34m.\u001b[0m\u001b[0m_clean_axis\u001b[0m\u001b[0;34m(\u001b[0m\u001b[0max\u001b[0m\u001b[0;34m)\u001b[0m\u001b[0;34m\u001b[0m\u001b[0;34m\u001b[0m\u001b[0m\n",
      "\u001b[0;32m/opt/conda/lib/python3.7/site-packages/seaborn/distributions.py\u001b[0m in \u001b[0;36mkdeplot\u001b[0;34m(data, data2, shade, vertical, kernel, bw, gridsize, cut, clip, legend, cumulative, shade_lowest, cbar, cbar_ax, cbar_kws, ax, **kwargs)\u001b[0m\n\u001b[1;32m    703\u001b[0m         ax = _univariate_kdeplot(data, shade, vertical, kernel, bw,\n\u001b[1;32m    704\u001b[0m                                  \u001b[0mgridsize\u001b[0m\u001b[0;34m,\u001b[0m \u001b[0mcut\u001b[0m\u001b[0;34m,\u001b[0m \u001b[0mclip\u001b[0m\u001b[0;34m,\u001b[0m \u001b[0mlegend\u001b[0m\u001b[0;34m,\u001b[0m \u001b[0max\u001b[0m\u001b[0;34m,\u001b[0m\u001b[0;34m\u001b[0m\u001b[0;34m\u001b[0m\u001b[0m\n\u001b[0;32m--> 705\u001b[0;31m                                  cumulative=cumulative, **kwargs)\n\u001b[0m\u001b[1;32m    706\u001b[0m \u001b[0;34m\u001b[0m\u001b[0m\n\u001b[1;32m    707\u001b[0m     \u001b[0;32mreturn\u001b[0m \u001b[0max\u001b[0m\u001b[0;34m\u001b[0m\u001b[0;34m\u001b[0m\u001b[0m\n",
      "\u001b[0;32m/opt/conda/lib/python3.7/site-packages/seaborn/distributions.py\u001b[0m in \u001b[0;36m_univariate_kdeplot\u001b[0;34m(data, shade, vertical, kernel, bw, gridsize, cut, clip, legend, ax, cumulative, **kwargs)\u001b[0m\n\u001b[1;32m    293\u001b[0m         x, y = _statsmodels_univariate_kde(data, kernel, bw,\n\u001b[1;32m    294\u001b[0m                                            \u001b[0mgridsize\u001b[0m\u001b[0;34m,\u001b[0m \u001b[0mcut\u001b[0m\u001b[0;34m,\u001b[0m \u001b[0mclip\u001b[0m\u001b[0;34m,\u001b[0m\u001b[0;34m\u001b[0m\u001b[0;34m\u001b[0m\u001b[0m\n\u001b[0;32m--> 295\u001b[0;31m                                            cumulative=cumulative)\n\u001b[0m\u001b[1;32m    296\u001b[0m     \u001b[0;32melse\u001b[0m\u001b[0;34m:\u001b[0m\u001b[0;34m\u001b[0m\u001b[0;34m\u001b[0m\u001b[0m\n\u001b[1;32m    297\u001b[0m         \u001b[0;31m# Fall back to scipy if missing statsmodels\u001b[0m\u001b[0;34m\u001b[0m\u001b[0;34m\u001b[0m\u001b[0;34m\u001b[0m\u001b[0m\n",
      "\u001b[0;32m/opt/conda/lib/python3.7/site-packages/seaborn/distributions.py\u001b[0m in \u001b[0;36m_statsmodels_univariate_kde\u001b[0;34m(data, kernel, bw, gridsize, cut, clip, cumulative)\u001b[0m\n\u001b[1;32m    365\u001b[0m     \u001b[0mfft\u001b[0m \u001b[0;34m=\u001b[0m \u001b[0mkernel\u001b[0m \u001b[0;34m==\u001b[0m \u001b[0;34m\"gau\"\u001b[0m\u001b[0;34m\u001b[0m\u001b[0;34m\u001b[0m\u001b[0m\n\u001b[1;32m    366\u001b[0m     \u001b[0mkde\u001b[0m \u001b[0;34m=\u001b[0m \u001b[0msmnp\u001b[0m\u001b[0;34m.\u001b[0m\u001b[0mKDEUnivariate\u001b[0m\u001b[0;34m(\u001b[0m\u001b[0mdata\u001b[0m\u001b[0;34m)\u001b[0m\u001b[0;34m\u001b[0m\u001b[0;34m\u001b[0m\u001b[0m\n\u001b[0;32m--> 367\u001b[0;31m     \u001b[0mkde\u001b[0m\u001b[0;34m.\u001b[0m\u001b[0mfit\u001b[0m\u001b[0;34m(\u001b[0m\u001b[0mkernel\u001b[0m\u001b[0;34m,\u001b[0m \u001b[0mbw\u001b[0m\u001b[0;34m,\u001b[0m \u001b[0mfft\u001b[0m\u001b[0;34m,\u001b[0m \u001b[0mgridsize\u001b[0m\u001b[0;34m=\u001b[0m\u001b[0mgridsize\u001b[0m\u001b[0;34m,\u001b[0m \u001b[0mcut\u001b[0m\u001b[0;34m=\u001b[0m\u001b[0mcut\u001b[0m\u001b[0;34m,\u001b[0m \u001b[0mclip\u001b[0m\u001b[0;34m=\u001b[0m\u001b[0mclip\u001b[0m\u001b[0;34m)\u001b[0m\u001b[0;34m\u001b[0m\u001b[0;34m\u001b[0m\u001b[0m\n\u001b[0m\u001b[1;32m    368\u001b[0m     \u001b[0;32mif\u001b[0m \u001b[0mcumulative\u001b[0m\u001b[0;34m:\u001b[0m\u001b[0;34m\u001b[0m\u001b[0;34m\u001b[0m\u001b[0m\n\u001b[1;32m    369\u001b[0m         \u001b[0mgrid\u001b[0m\u001b[0;34m,\u001b[0m \u001b[0my\u001b[0m \u001b[0;34m=\u001b[0m \u001b[0mkde\u001b[0m\u001b[0;34m.\u001b[0m\u001b[0msupport\u001b[0m\u001b[0;34m,\u001b[0m \u001b[0mkde\u001b[0m\u001b[0;34m.\u001b[0m\u001b[0mcdf\u001b[0m\u001b[0;34m\u001b[0m\u001b[0;34m\u001b[0m\u001b[0m\n",
      "\u001b[0;32m/opt/conda/lib/python3.7/site-packages/statsmodels/nonparametric/kde.py\u001b[0m in \u001b[0;36mfit\u001b[0;34m(self, kernel, bw, fft, weights, gridsize, adjust, cut, clip)\u001b[0m\n\u001b[1;32m    138\u001b[0m             density, grid, bw = kdensityfft(endog, kernel=kernel, bw=bw,\n\u001b[1;32m    139\u001b[0m                     \u001b[0madjust\u001b[0m\u001b[0;34m=\u001b[0m\u001b[0madjust\u001b[0m\u001b[0;34m,\u001b[0m \u001b[0mweights\u001b[0m\u001b[0;34m=\u001b[0m\u001b[0mweights\u001b[0m\u001b[0;34m,\u001b[0m \u001b[0mgridsize\u001b[0m\u001b[0;34m=\u001b[0m\u001b[0mgridsize\u001b[0m\u001b[0;34m,\u001b[0m\u001b[0;34m\u001b[0m\u001b[0;34m\u001b[0m\u001b[0m\n\u001b[0;32m--> 140\u001b[0;31m                     clip=clip, cut=cut)\n\u001b[0m\u001b[1;32m    141\u001b[0m         \u001b[0;32melse\u001b[0m\u001b[0;34m:\u001b[0m\u001b[0;34m\u001b[0m\u001b[0;34m\u001b[0m\u001b[0m\n\u001b[1;32m    142\u001b[0m             density, grid, bw = kdensity(endog, kernel=kernel, bw=bw,\n",
      "\u001b[0;32m/opt/conda/lib/python3.7/site-packages/statsmodels/nonparametric/kde.py\u001b[0m in \u001b[0;36mkdensityfft\u001b[0;34m(X, kernel, bw, weights, gridsize, adjust, clip, cut, retgrid)\u001b[0m\n\u001b[1;32m    451\u001b[0m         \u001b[0mbw\u001b[0m \u001b[0;34m=\u001b[0m \u001b[0mfloat\u001b[0m\u001b[0;34m(\u001b[0m\u001b[0mbw\u001b[0m\u001b[0;34m)\u001b[0m\u001b[0;34m\u001b[0m\u001b[0;34m\u001b[0m\u001b[0m\n\u001b[1;32m    452\u001b[0m     \u001b[0;32mexcept\u001b[0m\u001b[0;34m:\u001b[0m\u001b[0;34m\u001b[0m\u001b[0;34m\u001b[0m\u001b[0m\n\u001b[0;32m--> 453\u001b[0;31m         \u001b[0mbw\u001b[0m \u001b[0;34m=\u001b[0m \u001b[0mbandwidths\u001b[0m\u001b[0;34m.\u001b[0m\u001b[0mselect_bandwidth\u001b[0m\u001b[0;34m(\u001b[0m\u001b[0mX\u001b[0m\u001b[0;34m,\u001b[0m \u001b[0mbw\u001b[0m\u001b[0;34m,\u001b[0m \u001b[0mkern\u001b[0m\u001b[0;34m)\u001b[0m \u001b[0;31m# will cross-val fit this pattern?\u001b[0m\u001b[0;34m\u001b[0m\u001b[0;34m\u001b[0m\u001b[0m\n\u001b[0m\u001b[1;32m    454\u001b[0m     \u001b[0mbw\u001b[0m \u001b[0;34m*=\u001b[0m \u001b[0madjust\u001b[0m\u001b[0;34m\u001b[0m\u001b[0;34m\u001b[0m\u001b[0m\n\u001b[1;32m    455\u001b[0m \u001b[0;34m\u001b[0m\u001b[0m\n",
      "\u001b[0;32m/opt/conda/lib/python3.7/site-packages/statsmodels/nonparametric/bandwidths.py\u001b[0m in \u001b[0;36mselect_bandwidth\u001b[0;34m(x, bw, kernel)\u001b[0m\n\u001b[1;32m    172\u001b[0m         \u001b[0;31m# eventually this can fall back on another selection criterion.\u001b[0m\u001b[0;34m\u001b[0m\u001b[0;34m\u001b[0m\u001b[0;34m\u001b[0m\u001b[0m\n\u001b[1;32m    173\u001b[0m         \u001b[0merr\u001b[0m \u001b[0;34m=\u001b[0m \u001b[0;34m\"Selected KDE bandwidth is 0. Cannot estimate density.\"\u001b[0m\u001b[0;34m\u001b[0m\u001b[0;34m\u001b[0m\u001b[0m\n\u001b[0;32m--> 174\u001b[0;31m         \u001b[0;32mraise\u001b[0m \u001b[0mRuntimeError\u001b[0m\u001b[0;34m(\u001b[0m\u001b[0merr\u001b[0m\u001b[0;34m)\u001b[0m\u001b[0;34m\u001b[0m\u001b[0;34m\u001b[0m\u001b[0m\n\u001b[0m\u001b[1;32m    175\u001b[0m     \u001b[0;32melse\u001b[0m\u001b[0;34m:\u001b[0m\u001b[0;34m\u001b[0m\u001b[0;34m\u001b[0m\u001b[0m\n\u001b[1;32m    176\u001b[0m         \u001b[0;32mreturn\u001b[0m \u001b[0mbandwidth\u001b[0m\u001b[0;34m\u001b[0m\u001b[0;34m\u001b[0m\u001b[0m\n",
      "\u001b[0;31mRuntimeError\u001b[0m: Selected KDE bandwidth is 0. Cannot estimate density."
     ]
    },
    {
     "data": {
      "image/png": "[encoded data removed]",
      "text/plain": [
       "<Figure size 2340x2340 with 182 Axes>"
      ]
     },
     "metadata": {
      "needs_background": "light"
     },
     "output_type": "display_data"
    }
   ],
   "source": [
    "%%time\n",
    "## visualizing the plots of all distribution\n",
    "sns.pairplot(data=train_mf,hue=\"target\")"
   ]
  },
  {
   "cell_type": "code",
   "execution_count": 52,
   "metadata": {
    "execution": {
     "iopub.execute_input": "2020-12-18T20:44:12.867429Z",
     "iopub.status.busy": "2020-12-18T20:44:12.865688Z",
     "iopub.status.idle": "2020-12-18T20:44:12.874634Z",
     "shell.execute_reply": "2020-12-18T20:44:12.873733Z"
    },
    "papermill": {
     "duration": 0.134344,
     "end_time": "2020-12-18T20:44:12.874780",
     "exception": false,
     "start_time": "2020-12-18T20:44:12.740436",
     "status": "completed"
    },
    "tags": []
   },
   "outputs": [
    {
     "ename": "SyntaxError",
     "evalue": "invalid syntax (<ipython-input-52-65e6f7ba35d3>, line 10)",
     "output_type": "error",
     "traceback": [
      "\u001b[0;36m  File \u001b[0;32m\"<ipython-input-52-65e6f7ba35d3>\"\u001b[0;36m, line \u001b[0;32m10\u001b[0m\n\u001b[0;31m    ax = sns.countplot(y=features[i], data=test_mf, palette = )\u001b[0m\n\u001b[0m                                                              ^\u001b[0m\n\u001b[0;31mSyntaxError\u001b[0m\u001b[0;31m:\u001b[0m invalid syntax\n"
     ]
    }
   ],
   "source": [
    "import seaborn as sns\n",
    "\n",
    "features = ['num_words', 'num_unique_words', 'char_count', 'stopword_count',\n",
    "       'punctuations_count', 'num_words_upper', 'num_words_title',\n",
    "       'mean_word_len', 'num_exclamation_marks', 'num_question_marks', 'num_symbols', 'num_smilies', 'num_sad',]\n",
    "\n",
    "fig = plt.figure(figsize=(14,24))\n",
    "for i in range(len(features)): \n",
    "    fig.add_subplot(4, 4, i+1) \n",
    "    ax = sns.countplot(y=features[i], data=test_mf, palette = )\n",
    "    plt.title(features[i])\n",
    "plt.tight_layout() \n",
    "plt.show()"
   ]
  },
  {
   "cell_type": "code",
   "execution_count": 53,
   "metadata": {
    "execution": {
     "iopub.execute_input": "2020-12-18T20:44:13.111203Z",
     "iopub.status.busy": "2020-12-18T20:44:13.110340Z",
     "iopub.status.idle": "2020-12-18T20:44:51.691265Z",
     "shell.execute_reply": "2020-12-18T20:44:51.690471Z"
    },
    "papermill": {
     "duration": 38.700116,
     "end_time": "2020-12-18T20:44:51.691401",
     "exception": false,
     "start_time": "2020-12-18T20:44:12.991285",
     "status": "completed"
    },
    "tags": []
   },
   "outputs": [
    {
     "data": {
      "image/png": "[encoded data removed]",
      "text/plain": [
       "<Figure size 432x288 with 1 Axes>"
      ]
     },
     "metadata": {
      "needs_background": "light"
     },
     "output_type": "display_data"
    },
    {
     "data": {
      "image/png": "[encoded data removed]",
      "text/plain": [
       "<Figure size 432x288 with 1 Axes>"
      ]
     },
     "metadata": {
      "needs_background": "light"
     },
     "output_type": "display_data"
    },
    {
     "data": {
      "image/png": "[encoded data removed]",
      "text/plain": [
       "<Figure size 432x288 with 1 Axes>"
      ]
     },
     "metadata": {
      "needs_background": "light"
     },
     "output_type": "display_data"
    },
    {
     "data": {
      "image/png": "[encoded data removed]",
      "text/plain": [
       "<Figure size 432x288 with 1 Axes>"
      ]
     },
     "metadata": {
      "needs_background": "light"
     },
     "output_type": "display_data"
    },
    {
     "data": {
      "image/png": "[encoded data removed]",
      "text/plain": [
       "<Figure size 432x288 with 1 Axes>"
      ]
     },
     "metadata": {
      "needs_background": "light"
     },
     "output_type": "display_data"
    },
    {
     "data": {
      "image/png": "[encoded data removed]",
      "text/plain": [
       "<Figure size 432x288 with 1 Axes>"
      ]
     },
     "metadata": {
      "needs_background": "light"
     },
     "output_type": "display_data"
    },
    {
     "data": {
      "image/png": "[encoded data removed]",
      "text/plain": [
       "<Figure size 432x288 with 1 Axes>"
      ]
     },
     "metadata": {
      "needs_background": "light"
     },
     "output_type": "display_data"
    },
    {
     "data": {
      "image/png": "[encoded data removed]",
      "text/plain": [
       "<Figure size 432x288 with 1 Axes>"
      ]
     },
     "metadata": {
      "needs_background": "light"
     },
     "output_type": "display_data"
    },
    {
     "data": {
      "image/png": "[encoded data removed]",
      "text/plain": [
       "<Figure size 432x288 with 1 Axes>"
      ]
     },
     "metadata": {
      "needs_background": "light"
     },
     "output_type": "display_data"
    },
    {
     "data": {
      "image/png": "[encoded data removed]",
      "text/plain": [
       "<Figure size 432x288 with 1 Axes>"
      ]
     },
     "metadata": {
      "needs_background": "light"
     },
     "output_type": "display_data"
    },
    {
     "data": {
      "image/png": "[encoded data removed]",
      "text/plain": [
       "<Figure size 432x288 with 1 Axes>"
      ]
     },
     "metadata": {
      "needs_background": "light"
     },
     "output_type": "display_data"
    },
    {
     "data": {
      "image/png": "[encoded data removed]",
      "text/plain": [
       "<Figure size 432x288 with 1 Axes>"
      ]
     },
     "metadata": {
      "needs_background": "light"
     },
     "output_type": "display_data"
    },
    {
     "data": {
      "image/png": "[encoded data removed]",
      "text/plain": [
       "<Figure size 432x288 with 1 Axes>"
      ]
     },
     "metadata": {
      "needs_background": "light"
     },
     "output_type": "display_data"
    }
   ],
   "source": [
    "import seaborn as sns\n",
    "\n",
    "features = ['num_words', 'num_unique_words', 'char_count', 'stopword_count',\n",
    "       'punctuations_count', 'num_words_upper', 'num_words_title',\n",
    "       'mean_word_len', 'num_exclamation_marks', 'num_question_marks', 'num_symbols', 'num_smilies', 'num_sad',]\n",
    "\n",
    "for feature in features:\n",
    "    sns.countplot(y=feature, data=test_mf)\n",
    "    plt.show()"
   ]
  },
  {
   "cell_type": "markdown",
   "metadata": {
    "papermill": {
     "duration": 0.120566,
     "end_time": "2020-12-18T20:44:51.933321",
     "exception": false,
     "start_time": "2020-12-18T20:44:51.812755",
     "status": "completed"
    },
    "tags": []
   },
   "source": [
    "It is observed that there are no 'num_exclamation_marks', 'num_question_marks', 'num_symbols', 'num_smilies', 'num_sad', hence these features will be dropped from the working dataset"
   ]
  },
  {
   "cell_type": "code",
   "execution_count": 54,
   "metadata": {
    "execution": {
     "iopub.execute_input": "2020-12-18T20:44:52.246692Z",
     "iopub.status.busy": "2020-12-18T20:44:52.230764Z",
     "iopub.status.idle": "2020-12-18T20:44:52.996679Z",
     "shell.execute_reply": "2020-12-18T20:44:52.997469Z"
    },
    "papermill": {
     "duration": 0.941313,
     "end_time": "2020-12-18T20:44:52.997647",
     "exception": false,
     "start_time": "2020-12-18T20:44:52.056334",
     "status": "completed"
    },
    "tags": []
   },
   "outputs": [
    {
     "name": "stdout",
     "output_type": "stream",
     "text": [
      "Outliers_submission-mf.csv  __notebook__.ipynb  \u001b[0m\u001b[01;34m__results___files\u001b[0m/\r\n",
      "Test_metafeatures.csv       __output__.json     custom.css\r\n",
      "Train_metafeatures.csv      __results__.html\r\n"
     ]
    }
   ],
   "source": [
    "ls /kaggle/input/qiqc-metafeatures/"
   ]
  },
  {
   "cell_type": "code",
   "execution_count": 55,
   "metadata": {
    "execution": {
     "iopub.execute_input": "2020-12-18T20:44:53.274726Z",
     "iopub.status.busy": "2020-12-18T20:44:53.273983Z",
     "iopub.status.idle": "2020-12-18T20:44:58.587258Z",
     "shell.execute_reply": "2020-12-18T20:44:58.586436Z"
    },
    "papermill": {
     "duration": 5.438937,
     "end_time": "2020-12-18T20:44:58.587380",
     "exception": false,
     "start_time": "2020-12-18T20:44:53.148443",
     "status": "completed"
    },
    "tags": []
   },
   "outputs": [],
   "source": [
    "train_mf = pd.read_csv(\"/kaggle/input/qiqc-metafeatures/Train_metafeatures.csv\")\n",
    "test_mf = pd.read_csv(\"/kaggle/input/qiqc-metafeatures/Test_metafeatures.csv\")"
   ]
  },
  {
   "cell_type": "code",
   "execution_count": 56,
   "metadata": {
    "execution": {
     "iopub.execute_input": "2020-12-18T20:44:58.865243Z",
     "iopub.status.busy": "2020-12-18T20:44:58.864492Z",
     "iopub.status.idle": "2020-12-18T20:44:58.868791Z",
     "shell.execute_reply": "2020-12-18T20:44:58.868204Z"
    },
    "papermill": {
     "duration": 0.160281,
     "end_time": "2020-12-18T20:44:58.868923",
     "exception": false,
     "start_time": "2020-12-18T20:44:58.708642",
     "status": "completed"
    },
    "tags": []
   },
   "outputs": [],
   "source": [
    "train_wmf = train_mf.drop(['lower_question_text', 'num_exclamation_marks', 'num_question_marks', 'num_symbols', 'num_smilies', 'num_sad', 'target'], axis = 1)"
   ]
  },
  {
   "cell_type": "code",
   "execution_count": 57,
   "metadata": {
    "execution": {
     "iopub.execute_input": "2020-12-18T20:44:59.129962Z",
     "iopub.status.busy": "2020-12-18T20:44:59.129004Z",
     "iopub.status.idle": "2020-12-18T20:44:59.133878Z",
     "shell.execute_reply": "2020-12-18T20:44:59.133227Z"
    },
    "papermill": {
     "duration": 0.138777,
     "end_time": "2020-12-18T20:44:59.133992",
     "exception": false,
     "start_time": "2020-12-18T20:44:58.995215",
     "status": "completed"
    },
    "tags": []
   },
   "outputs": [
    {
     "data": {
      "text/html": [
       "<div>\n",
       "<style scoped>\n",
       "    .dataframe tbody tr th:only-of-type {\n",
       "        vertical-align: middle;\n",
       "    }\n",
       "\n",
       "    .dataframe tbody tr th {\n",
       "        vertical-align: top;\n",
       "    }\n",
       "\n",
       "    .dataframe thead th {\n",
       "        text-align: right;\n",
       "    }\n",
       "</style>\n",
       "<table border=\"1\" class=\"dataframe\">\n",
       "  <thead>\n",
       "    <tr style=\"text-align: right;\">\n",
       "      <th></th>\n",
       "      <th>Unnamed: 0</th>\n",
       "      <th>num_words</th>\n",
       "      <th>num_unique_words</th>\n",
       "      <th>char_count</th>\n",
       "      <th>stopword_count</th>\n",
       "      <th>punctuations_count</th>\n",
       "      <th>num_words_upper</th>\n",
       "      <th>num_words_title</th>\n",
       "      <th>mean_word_len</th>\n",
       "    </tr>\n",
       "  </thead>\n",
       "  <tbody>\n",
       "    <tr>\n",
       "      <th>0</th>\n",
       "      <td>0</td>\n",
       "      <td>24</td>\n",
       "      <td>22</td>\n",
       "      <td>137</td>\n",
       "      <td>13</td>\n",
       "      <td>8</td>\n",
       "      <td>2</td>\n",
       "      <td>6</td>\n",
       "      <td>4.750000</td>\n",
       "    </tr>\n",
       "    <tr>\n",
       "      <th>1</th>\n",
       "      <td>1</td>\n",
       "      <td>9</td>\n",
       "      <td>9</td>\n",
       "      <td>54</td>\n",
       "      <td>5</td>\n",
       "      <td>1</td>\n",
       "      <td>0</td>\n",
       "      <td>3</td>\n",
       "      <td>5.111111</td>\n",
       "    </tr>\n",
       "    <tr>\n",
       "      <th>2</th>\n",
       "      <td>2</td>\n",
       "      <td>8</td>\n",
       "      <td>8</td>\n",
       "      <td>52</td>\n",
       "      <td>5</td>\n",
       "      <td>1</td>\n",
       "      <td>0</td>\n",
       "      <td>2</td>\n",
       "      <td>5.625000</td>\n",
       "    </tr>\n",
       "    <tr>\n",
       "      <th>3</th>\n",
       "      <td>3</td>\n",
       "      <td>9</td>\n",
       "      <td>9</td>\n",
       "      <td>47</td>\n",
       "      <td>4</td>\n",
       "      <td>1</td>\n",
       "      <td>0</td>\n",
       "      <td>3</td>\n",
       "      <td>4.333333</td>\n",
       "    </tr>\n",
       "    <tr>\n",
       "      <th>4</th>\n",
       "      <td>4</td>\n",
       "      <td>17</td>\n",
       "      <td>16</td>\n",
       "      <td>88</td>\n",
       "      <td>7</td>\n",
       "      <td>1</td>\n",
       "      <td>0</td>\n",
       "      <td>2</td>\n",
       "      <td>4.235294</td>\n",
       "    </tr>\n",
       "  </tbody>\n",
       "</table>\n",
       "</div>"
      ],
      "text/plain": [
       "   Unnamed: 0  num_words  num_unique_words  char_count  stopword_count  \\\n",
       "0           0         24                22         137              13   \n",
       "1           1          9                 9          54               5   \n",
       "2           2          8                 8          52               5   \n",
       "3           3          9                 9          47               4   \n",
       "4           4         17                16          88               7   \n",
       "\n",
       "   punctuations_count  num_words_upper  num_words_title  mean_word_len  \n",
       "0                   8                2                6       4.750000  \n",
       "1                   1                0                3       5.111111  \n",
       "2                   1                0                2       5.625000  \n",
       "3                   1                0                3       4.333333  \n",
       "4                   1                0                2       4.235294  "
      ]
     },
     "execution_count": 57,
     "metadata": {},
     "output_type": "execute_result"
    }
   ],
   "source": [
    "train_wmf.head(5)"
   ]
  },
  {
   "cell_type": "code",
   "execution_count": 58,
   "metadata": {
    "execution": {
     "iopub.execute_input": "2020-12-18T20:44:59.402784Z",
     "iopub.status.busy": "2020-12-18T20:44:59.398965Z",
     "iopub.status.idle": "2020-12-18T20:44:59.406334Z",
     "shell.execute_reply": "2020-12-18T20:44:59.405717Z"
    },
    "papermill": {
     "duration": 0.14898,
     "end_time": "2020-12-18T20:44:59.406453",
     "exception": false,
     "start_time": "2020-12-18T20:44:59.257473",
     "status": "completed"
    },
    "tags": []
   },
   "outputs": [],
   "source": [
    "test_wmf = test_mf.drop(['lower_question_text', 'num_exclamation_marks', 'num_question_marks', 'num_symbols', 'num_smilies', 'num_sad'], axis = 1)"
   ]
  },
  {
   "cell_type": "code",
   "execution_count": 59,
   "metadata": {
    "execution": {
     "iopub.execute_input": "2020-12-18T20:44:59.651624Z",
     "iopub.status.busy": "2020-12-18T20:44:59.650860Z",
     "iopub.status.idle": "2020-12-18T20:44:59.653875Z",
     "shell.execute_reply": "2020-12-18T20:44:59.653353Z"
    },
    "papermill": {
     "duration": 0.128097,
     "end_time": "2020-12-18T20:44:59.654009",
     "exception": false,
     "start_time": "2020-12-18T20:44:59.525912",
     "status": "completed"
    },
    "tags": []
   },
   "outputs": [],
   "source": [
    "X = train_wmf"
   ]
  },
  {
   "cell_type": "code",
   "execution_count": 60,
   "metadata": {
    "execution": {
     "iopub.execute_input": "2020-12-18T20:44:59.902546Z",
     "iopub.status.busy": "2020-12-18T20:44:59.901869Z",
     "iopub.status.idle": "2020-12-18T20:44:59.905960Z",
     "shell.execute_reply": "2020-12-18T20:44:59.905163Z"
    },
    "papermill": {
     "duration": 0.130235,
     "end_time": "2020-12-18T20:44:59.906123",
     "exception": false,
     "start_time": "2020-12-18T20:44:59.775888",
     "status": "completed"
    },
    "tags": []
   },
   "outputs": [],
   "source": [
    "y = train_mf['target']"
   ]
  },
  {
   "cell_type": "code",
   "execution_count": 61,
   "metadata": {
    "execution": {
     "iopub.execute_input": "2020-12-18T20:45:00.157861Z",
     "iopub.status.busy": "2020-12-18T20:45:00.157064Z",
     "iopub.status.idle": "2020-12-18T20:45:00.318306Z",
     "shell.execute_reply": "2020-12-18T20:45:00.317587Z"
    },
    "papermill": {
     "duration": 0.291093,
     "end_time": "2020-12-18T20:45:00.318426",
     "exception": false,
     "start_time": "2020-12-18T20:45:00.027333",
     "status": "completed"
    },
    "tags": []
   },
   "outputs": [],
   "source": [
    "from sklearn.model_selection import train_test_split\n",
    "X_train, X_test, y_train, y_test = train_test_split(X, y, test_size=0.3, random_state=0)"
   ]
  },
  {
   "cell_type": "code",
   "execution_count": 62,
   "metadata": {
    "execution": {
     "iopub.execute_input": "2020-12-18T20:45:00.567630Z",
     "iopub.status.busy": "2020-12-18T20:45:00.566953Z",
     "iopub.status.idle": "2020-12-18T20:45:00.572374Z",
     "shell.execute_reply": "2020-12-18T20:45:00.571640Z"
    },
    "papermill": {
     "duration": 0.132205,
     "end_time": "2020-12-18T20:45:00.572498",
     "exception": false,
     "start_time": "2020-12-18T20:45:00.440293",
     "status": "completed"
    },
    "tags": []
   },
   "outputs": [
    {
     "name": "stdout",
     "output_type": "stream",
     "text": [
      "(548571, 9)\n",
      "(235102, 9)\n",
      "(548571,)\n",
      "(235102,)\n"
     ]
    }
   ],
   "source": [
    "print(X_train.shape)\n",
    "print(X_test.shape)\n",
    "print(y_train.shape)\n",
    "print(y_test.shape)"
   ]
  },
  {
   "cell_type": "code",
   "execution_count": 63,
   "metadata": {
    "execution": {
     "iopub.execute_input": "2020-12-18T20:45:00.825451Z",
     "iopub.status.busy": "2020-12-18T20:45:00.824677Z",
     "iopub.status.idle": "2020-12-18T20:45:01.001975Z",
     "shell.execute_reply": "2020-12-18T20:45:01.001391Z"
    },
    "papermill": {
     "duration": 0.30727,
     "end_time": "2020-12-18T20:45:01.002124",
     "exception": false,
     "start_time": "2020-12-18T20:45:00.694854",
     "status": "completed"
    },
    "tags": []
   },
   "outputs": [],
   "source": [
    "from sklearn.preprocessing import StandardScaler\n",
    "sc = StandardScaler()\n",
    "sc.fit(X_train)\n",
    "X_train_std = sc.transform(X_train)\n",
    "X_test_std = sc.transform(X_test)"
   ]
  },
  {
   "cell_type": "code",
   "execution_count": 64,
   "metadata": {
    "execution": {
     "iopub.execute_input": "2020-12-18T20:45:01.252231Z",
     "iopub.status.busy": "2020-12-18T20:45:01.251286Z",
     "iopub.status.idle": "2020-12-18T20:45:01.254649Z",
     "shell.execute_reply": "2020-12-18T20:45:01.253920Z"
    },
    "papermill": {
     "duration": 0.129851,
     "end_time": "2020-12-18T20:45:01.254778",
     "exception": false,
     "start_time": "2020-12-18T20:45:01.124927",
     "status": "completed"
    },
    "tags": []
   },
   "outputs": [],
   "source": [
    "from numpy import mean\n",
    "from sklearn.datasets import make_classification\n",
    "from sklearn.model_selection import cross_val_score\n",
    "from sklearn.model_selection import RepeatedStratifiedKFold\n",
    "from sklearn.linear_model import LogisticRegression"
   ]
  },
  {
   "cell_type": "code",
   "execution_count": 65,
   "metadata": {
    "execution": {
     "iopub.execute_input": "2020-12-18T20:45:01.506260Z",
     "iopub.status.busy": "2020-12-18T20:45:01.505283Z",
     "iopub.status.idle": "2020-12-18T20:46:09.812873Z",
     "shell.execute_reply": "2020-12-18T20:46:09.813822Z"
    },
    "papermill": {
     "duration": 68.438598,
     "end_time": "2020-12-18T20:46:09.814180",
     "exception": false,
     "start_time": "2020-12-18T20:45:01.375582",
     "status": "completed"
    },
    "tags": []
   },
   "outputs": [
    {
     "name": "stdout",
     "output_type": "stream",
     "text": [
      "Mean ROC AUC: 0.721\n"
     ]
    }
   ],
   "source": [
    "# define model\n",
    "model_mf_lr = LogisticRegression(solver='saga', class_weight = 'balanced')\n",
    "# define evaluation procedure\n",
    "cv = RepeatedStratifiedKFold(n_splits=10, n_repeats=3, random_state=1)\n",
    "# evaluate model\n",
    "scores = cross_val_score(model_mf_lr, X_train_std, y_train, scoring='roc_auc', cv=cv, n_jobs=-1)\n",
    "# summarize performance\n",
    "print('Mean ROC AUC: %.3f' % mean(scores))"
   ]
  },
  {
   "cell_type": "code",
   "execution_count": 66,
   "metadata": {
    "execution": {
     "iopub.execute_input": "2020-12-18T20:46:10.147475Z",
     "iopub.status.busy": "2020-12-18T20:46:10.146172Z",
     "iopub.status.idle": "2020-12-18T20:46:43.582606Z",
     "shell.execute_reply": "2020-12-18T20:46:43.581839Z"
    },
    "papermill": {
     "duration": 33.637717,
     "end_time": "2020-12-18T20:46:43.582792",
     "exception": false,
     "start_time": "2020-12-18T20:46:09.945075",
     "status": "completed"
    },
    "tags": []
   },
   "outputs": [
    {
     "name": "stderr",
     "output_type": "stream",
     "text": [
      "/opt/conda/lib/python3.7/site-packages/sklearn/linear_model/_sag.py:330: ConvergenceWarning: The max_iter was reached which means the coef_ did not converge\n",
      "  \"the coef_ did not converge\", ConvergenceWarning)\n",
      "/opt/conda/lib/python3.7/site-packages/sklearn/metrics/_classification.py:1221: UndefinedMetricWarning: Precision and F-score are ill-defined and being set to 0.0 in labels with no predicted samples. Use `zero_division` parameter to control this behavior.\n",
      "  _warn_prf(average, modifier, msg_start, len(result))\n"
     ]
    },
    {
     "name": "stdout",
     "output_type": "stream",
     "text": [
      "              precision    recall  f1-score   support\n",
      "\n",
      "           0       0.00      0.00      0.00    220588\n",
      "           1       0.06      1.00      0.12     14514\n",
      "\n",
      "    accuracy                           0.06    235102\n",
      "   macro avg       0.03      0.50      0.06    235102\n",
      "weighted avg       0.00      0.06      0.01    235102\n",
      "\n",
      "[[     0 220588]\n",
      " [     0  14514]]\n",
      "F-measure: 0.116\n"
     ]
    }
   ],
   "source": [
    "from sklearn.metrics import classification_report,confusion_matrix, accuracy_score, f1_score\n",
    "from sklearn.model_selection import cross_val_score\n",
    "\n",
    "model_mf_lr.fit(X_train,y_train)\n",
    "predictions = model_mf_lr.predict(X_test)\n",
    "print(classification_report(y_test,predictions))\n",
    "print(confusion_matrix(y_test,predictions))\n",
    "print(f'F-measure: %.3f' % f1_score(y_test,predictions))"
   ]
  },
  {
   "cell_type": "code",
   "execution_count": 67,
   "metadata": {
    "execution": {
     "iopub.execute_input": "2020-12-18T20:46:43.871038Z",
     "iopub.status.busy": "2020-12-18T20:46:43.869738Z",
     "iopub.status.idle": "2020-12-18T20:46:43.875376Z",
     "shell.execute_reply": "2020-12-18T20:46:43.874626Z"
    },
    "papermill": {
     "duration": 0.149167,
     "end_time": "2020-12-18T20:46:43.875505",
     "exception": false,
     "start_time": "2020-12-18T20:46:43.726338",
     "status": "completed"
    },
    "tags": []
   },
   "outputs": [],
   "source": [
    "import itertools\n",
    "\n",
    "def plot_confusion_matrix(cm, classes,\n",
    "                          normalize=False,\n",
    "                          title='Confusion matrix',\n",
    "                          cmap=plt.cm.Blues):\n",
    "    \"\"\"\n",
    "    This function prints and plots the confusion matrix.\n",
    "    Normalization can be applied by setting `normalize=True`.\n",
    "    \"\"\"\n",
    "    plt.imshow(cm, interpolation='nearest', cmap=cmap)\n",
    "    plt.title(title)\n",
    "    plt.colorbar()\n",
    "    tick_marks = np.arange(len(classes))\n",
    "    plt.xticks(tick_marks, classes, rotation=0)\n",
    "    plt.yticks(tick_marks, classes)\n",
    "\n",
    "    if normalize:\n",
    "        cm = cm.astype('float') / cm.sum(axis=1)[:, np.newaxis]\n",
    "        #print(\"Normalized confusion matrix\")\n",
    "    else:\n",
    "        1#print('Confusion matrix, without normalization')\n",
    "\n",
    "    #print(cm)\n",
    "\n",
    "    thresh = cm.max() / 2.\n",
    "    for i, j in itertools.product(range(cm.shape[0]), range(cm.shape[1])):\n",
    "        plt.text(j, i, cm[i, j],\n",
    "                 horizontalalignment=\"center\",\n",
    "                 color=\"white\" if cm[i, j] > thresh else \"black\")\n",
    "\n",
    "    plt.tight_layout()\n",
    "    plt.ylabel('True label')\n",
    "    plt.xlabel('Predicted label')"
   ]
  },
  {
   "cell_type": "code",
   "execution_count": 68,
   "metadata": {
    "execution": {
     "iopub.execute_input": "2020-12-18T20:46:44.139974Z",
     "iopub.status.busy": "2020-12-18T20:46:44.139180Z",
     "iopub.status.idle": "2020-12-18T20:46:45.213146Z",
     "shell.execute_reply": "2020-12-18T20:46:45.212452Z"
    },
    "papermill": {
     "duration": 1.213635,
     "end_time": "2020-12-18T20:46:45.213291",
     "exception": false,
     "start_time": "2020-12-18T20:46:43.999656",
     "status": "completed"
    },
    "tags": []
   },
   "outputs": [
    {
     "name": "stdout",
     "output_type": "stream",
     "text": [
      "Recall metric in the train dataset: 100.0%\n"
     ]
    },
    {
     "data": {
      "image/png": "[encoded data removed]",
      "text/plain": [
       "<Figure size 432x288 with 2 Axes>"
      ]
     },
     "metadata": {
      "needs_background": "light"
     },
     "output_type": "display_data"
    }
   ],
   "source": [
    "y_train_pre = model_mf_lr.predict(X_train)\n",
    "\n",
    "cnf_matrix_tra = confusion_matrix(y_train, y_train_pre)\n",
    "\n",
    "print(\"Recall metric in the train dataset: {}%\".format(100*cnf_matrix_tra[1,1]/(cnf_matrix_tra[1,0]+cnf_matrix_tra[1,1])))\n",
    "\n",
    "\n",
    "class_names = [0,1]\n",
    "plt.figure()\n",
    "plot_confusion_matrix(cnf_matrix_tra , classes=class_names, title='Confusion matrix')\n",
    "plt.show()"
   ]
  },
  {
   "cell_type": "code",
   "execution_count": 69,
   "metadata": {
    "execution": {
     "iopub.execute_input": "2020-12-18T20:46:45.484215Z",
     "iopub.status.busy": "2020-12-18T20:46:45.483374Z",
     "iopub.status.idle": "2020-12-18T20:46:45.699297Z",
     "shell.execute_reply": "2020-12-18T20:46:45.698587Z"
    },
    "papermill": {
     "duration": 0.353375,
     "end_time": "2020-12-18T20:46:45.699438",
     "exception": false,
     "start_time": "2020-12-18T20:46:45.346063",
     "status": "completed"
    },
    "tags": []
   },
   "outputs": [
    {
     "name": "stdout",
     "output_type": "stream",
     "text": [
      "F1 Score is:  0.11652028813338186\n"
     ]
    }
   ],
   "source": [
    "print(\"F1 Score is: \", f1_score(y_train, y_train_pre))"
   ]
  },
  {
   "cell_type": "code",
   "execution_count": 70,
   "metadata": {
    "execution": {
     "iopub.execute_input": "2020-12-18T20:46:45.987780Z",
     "iopub.status.busy": "2020-12-18T20:46:45.987000Z",
     "iopub.status.idle": "2020-12-18T20:46:45.990721Z",
     "shell.execute_reply": "2020-12-18T20:46:45.989900Z"
    },
    "papermill": {
     "duration": 0.148329,
     "end_time": "2020-12-18T20:46:45.990859",
     "exception": false,
     "start_time": "2020-12-18T20:46:45.842530",
     "status": "completed"
    },
    "tags": []
   },
   "outputs": [],
   "source": [
    "X_val = test_wmf"
   ]
  },
  {
   "cell_type": "code",
   "execution_count": 71,
   "metadata": {
    "execution": {
     "iopub.execute_input": "2020-12-18T20:46:46.262441Z",
     "iopub.status.busy": "2020-12-18T20:46:46.261644Z",
     "iopub.status.idle": "2020-12-18T20:46:46.292823Z",
     "shell.execute_reply": "2020-12-18T20:46:46.292025Z"
    },
    "papermill": {
     "duration": 0.165708,
     "end_time": "2020-12-18T20:46:46.292978",
     "exception": false,
     "start_time": "2020-12-18T20:46:46.127270",
     "status": "completed"
    },
    "tags": []
   },
   "outputs": [],
   "source": [
    "# Step 4: Evaluate the model\n",
    "\n",
    "y_predict = model_mf_lr.predict(X_val)\n"
   ]
  },
  {
   "cell_type": "code",
   "execution_count": 72,
   "metadata": {
    "execution": {
     "iopub.execute_input": "2020-12-18T20:46:46.563903Z",
     "iopub.status.busy": "2020-12-18T20:46:46.562708Z",
     "iopub.status.idle": "2020-12-18T20:46:48.461352Z",
     "shell.execute_reply": "2020-12-18T20:46:48.459623Z"
    },
    "papermill": {
     "duration": 2.033506,
     "end_time": "2020-12-18T20:46:48.461805",
     "exception": false,
     "start_time": "2020-12-18T20:46:46.428299",
     "status": "completed"
    },
    "tags": []
   },
   "outputs": [
    {
     "name": "stderr",
     "output_type": "stream",
     "text": [
      "/opt/conda/lib/python3.7/site-packages/sklearn/metrics/_classification.py:1221: UndefinedMetricWarning: Precision and F-score are ill-defined and being set to 0.0 in labels with no predicted samples. Use `zero_division` parameter to control this behavior.\n",
      "  _warn_prf(average, modifier, msg_start, len(result))\n"
     ]
    },
    {
     "name": "stdout",
     "output_type": "stream",
     "text": [
      "              precision    recall  f1-score   support\n",
      "\n",
      "           0       0.00      0.00      0.00    514634\n",
      "           1       0.06      1.00      0.12     33937\n",
      "\n",
      "    accuracy                           0.06    548571\n",
      "   macro avg       0.03      0.50      0.06    548571\n",
      "weighted avg       0.00      0.06      0.01    548571\n",
      "\n",
      "[[     0 514634]\n",
      " [     0  33937]]\n",
      "F-measure: 0.117\n"
     ]
    }
   ],
   "source": [
    "print(classification_report(y_train, y_train_pre))\n",
    "print(confusion_matrix(y_train, y_train_pre))\n",
    "print(f'F-measure: %.3f' % f1_score(y_train, y_train_pre))"
   ]
  },
  {
   "cell_type": "code",
   "execution_count": 73,
   "metadata": {
    "execution": {
     "iopub.execute_input": "2020-12-18T20:46:48.757964Z",
     "iopub.status.busy": "2020-12-18T20:46:48.757205Z",
     "iopub.status.idle": "2020-12-18T20:46:49.948779Z",
     "shell.execute_reply": "2020-12-18T20:46:49.948068Z"
    },
    "papermill": {
     "duration": 1.340282,
     "end_time": "2020-12-18T20:46:49.948909",
     "exception": false,
     "start_time": "2020-12-18T20:46:48.608627",
     "status": "completed"
    },
    "tags": []
   },
   "outputs": [],
   "source": [
    "sub_mf_bal = pd.read_csv(\"/kaggle/input/quora/test.csv\")"
   ]
  },
  {
   "cell_type": "code",
   "execution_count": 74,
   "metadata": {
    "execution": {
     "iopub.execute_input": "2020-12-18T20:46:50.211856Z",
     "iopub.status.busy": "2020-12-18T20:46:50.210948Z",
     "iopub.status.idle": "2020-12-18T20:46:50.242682Z",
     "shell.execute_reply": "2020-12-18T20:46:50.243245Z"
    },
    "papermill": {
     "duration": 0.166347,
     "end_time": "2020-12-18T20:46:50.243420",
     "exception": false,
     "start_time": "2020-12-18T20:46:50.077073",
     "status": "completed"
    },
    "tags": []
   },
   "outputs": [
    {
     "ename": "NameError",
     "evalue": "name 'submission_mf' is not defined",
     "output_type": "error",
     "traceback": [
      "\u001b[0;31m---------------------------------------------------------------------------\u001b[0m",
      "\u001b[0;31mNameError\u001b[0m                                 Traceback (most recent call last)",
      "\u001b[0;32m<ipython-input-74-4d4d8c4a1f53>\u001b[0m in \u001b[0;36m<module>\u001b[0;34m\u001b[0m\n\u001b[0;32m----> 1\u001b[0;31m \u001b[0mout_mf_bal\u001b[0m \u001b[0;34m=\u001b[0m \u001b[0mpd\u001b[0m\u001b[0;34m.\u001b[0m\u001b[0mDataFrame\u001b[0m\u001b[0;34m(\u001b[0m\u001b[0;34m{\u001b[0m\u001b[0;34m\"qid\"\u001b[0m\u001b[0;34m:\u001b[0m\u001b[0msubmission_mf\u001b[0m\u001b[0;34m[\u001b[0m\u001b[0;34m\"qid\"\u001b[0m\u001b[0;34m]\u001b[0m\u001b[0;34m.\u001b[0m\u001b[0mvalues\u001b[0m\u001b[0;34m}\u001b[0m\u001b[0;34m)\u001b[0m\u001b[0;34m\u001b[0m\u001b[0;34m\u001b[0m\u001b[0m\n\u001b[0m",
      "\u001b[0;31mNameError\u001b[0m: name 'submission_mf' is not defined"
     ]
    }
   ],
   "source": [
    "out_mf_bal = pd.DataFrame({\"qid\":submission_mf[\"qid\"].values})"
   ]
  },
  {
   "cell_type": "code",
   "execution_count": 75,
   "metadata": {
    "execution": {
     "iopub.execute_input": "2020-12-18T20:46:50.507425Z",
     "iopub.status.busy": "2020-12-18T20:46:50.506319Z",
     "iopub.status.idle": "2020-12-18T20:46:50.526946Z",
     "shell.execute_reply": "2020-12-18T20:46:50.527509Z"
    },
    "papermill": {
     "duration": 0.154229,
     "end_time": "2020-12-18T20:46:50.527703",
     "exception": false,
     "start_time": "2020-12-18T20:46:50.373474",
     "status": "completed"
    },
    "tags": []
   },
   "outputs": [
    {
     "ename": "NameError",
     "evalue": "name 'out_mf_bal' is not defined",
     "output_type": "error",
     "traceback": [
      "\u001b[0;31m---------------------------------------------------------------------------\u001b[0m",
      "\u001b[0;31mNameError\u001b[0m                                 Traceback (most recent call last)",
      "\u001b[0;32m<ipython-input-75-0f103118a0ae>\u001b[0m in \u001b[0;36m<module>\u001b[0;34m\u001b[0m\n\u001b[0;32m----> 1\u001b[0;31m \u001b[0mout_mf_bal\u001b[0m\u001b[0;34m[\u001b[0m\u001b[0;34m'target'\u001b[0m\u001b[0;34m]\u001b[0m \u001b[0;34m=\u001b[0m \u001b[0my_predict\u001b[0m\u001b[0;34m\u001b[0m\u001b[0;34m\u001b[0m\u001b[0m\n\u001b[0m",
      "\u001b[0;31mNameError\u001b[0m: name 'out_mf_bal' is not defined"
     ]
    }
   ],
   "source": [
    "out_mf_bal['target'] = y_predict"
   ]
  },
  {
   "cell_type": "code",
   "execution_count": 76,
   "metadata": {
    "execution": {
     "iopub.execute_input": "2020-12-18T20:46:50.794063Z",
     "iopub.status.busy": "2020-12-18T20:46:50.792890Z",
     "iopub.status.idle": "2020-12-18T20:46:50.812678Z",
     "shell.execute_reply": "2020-12-18T20:46:50.813311Z"
    },
    "papermill": {
     "duration": 0.155368,
     "end_time": "2020-12-18T20:46:50.813479",
     "exception": false,
     "start_time": "2020-12-18T20:46:50.658111",
     "status": "completed"
    },
    "tags": []
   },
   "outputs": [
    {
     "ename": "NameError",
     "evalue": "name 'out_mf_bal' is not defined",
     "output_type": "error",
     "traceback": [
      "\u001b[0;31m---------------------------------------------------------------------------\u001b[0m",
      "\u001b[0;31mNameError\u001b[0m                                 Traceback (most recent call last)",
      "\u001b[0;32m<ipython-input-76-bfdf2185dde1>\u001b[0m in \u001b[0;36m<module>\u001b[0;34m\u001b[0m\n\u001b[0;32m----> 1\u001b[0;31m \u001b[0mout_mf_bal\u001b[0m\u001b[0;34m\u001b[0m\u001b[0;34m\u001b[0m\u001b[0m\n\u001b[0m",
      "\u001b[0;31mNameError\u001b[0m: name 'out_mf_bal' is not defined"
     ]
    }
   ],
   "source": [
    "out_mf_bal"
   ]
  },
  {
   "cell_type": "code",
   "execution_count": 77,
   "metadata": {
    "execution": {
     "iopub.execute_input": "2020-12-18T20:46:51.084370Z",
     "iopub.status.busy": "2020-12-18T20:46:51.083303Z",
     "iopub.status.idle": "2020-12-18T20:46:51.102370Z",
     "shell.execute_reply": "2020-12-18T20:46:51.102876Z"
    },
    "papermill": {
     "duration": 0.152885,
     "end_time": "2020-12-18T20:46:51.103034",
     "exception": false,
     "start_time": "2020-12-18T20:46:50.950149",
     "status": "completed"
    },
    "tags": []
   },
   "outputs": [
    {
     "ename": "NameError",
     "evalue": "name 'out_mf_bal' is not defined",
     "output_type": "error",
     "traceback": [
      "\u001b[0;31m---------------------------------------------------------------------------\u001b[0m",
      "\u001b[0;31mNameError\u001b[0m                                 Traceback (most recent call last)",
      "\u001b[0;32m<ipython-input-77-ee44f58602c1>\u001b[0m in \u001b[0;36m<module>\u001b[0;34m\u001b[0m\n\u001b[0;32m----> 1\u001b[0;31m \u001b[0mout_mf_bal\u001b[0m\u001b[0;34m.\u001b[0m\u001b[0mto_csv\u001b[0m\u001b[0;34m(\u001b[0m\u001b[0;34m\"Outliers_submission-mf_bal.csv\"\u001b[0m\u001b[0;34m,\u001b[0m \u001b[0mindex\u001b[0m\u001b[0;34m=\u001b[0m\u001b[0;32mFalse\u001b[0m\u001b[0;34m)\u001b[0m\u001b[0;34m\u001b[0m\u001b[0;34m\u001b[0m\u001b[0m\n\u001b[0m",
      "\u001b[0;31mNameError\u001b[0m: name 'out_mf_bal' is not defined"
     ]
    }
   ],
   "source": [
    "out_mf_bal.to_csv(\"Outliers_submission-mf_bal.csv\", index=False)"
   ]
  },
  {
   "cell_type": "code",
   "execution_count": null,
   "metadata": {
    "papermill": {
     "duration": 0.129324,
     "end_time": "2020-12-18T20:46:51.362034",
     "exception": false,
     "start_time": "2020-12-18T20:46:51.232710",
     "status": "completed"
    },
    "tags": []
   },
   "outputs": [],
   "source": []
  },
  {
   "cell_type": "markdown",
   "metadata": {
    "papermill": {
     "duration": 0.129895,
     "end_time": "2020-12-18T20:46:51.621466",
     "exception": false,
     "start_time": "2020-12-18T20:46:51.491571",
     "status": "completed"
    },
    "tags": []
   },
   "source": [
    "# SMOTE"
   ]
  },
  {
   "cell_type": "code",
   "execution_count": 78,
   "metadata": {
    "execution": {
     "iopub.execute_input": "2020-12-18T20:46:51.887781Z",
     "iopub.status.busy": "2020-12-18T20:46:51.886915Z",
     "iopub.status.idle": "2020-12-18T20:46:57.697614Z",
     "shell.execute_reply": "2020-12-18T20:46:57.697021Z"
    },
    "papermill": {
     "duration": 5.945804,
     "end_time": "2020-12-18T20:46:57.697743",
     "exception": false,
     "start_time": "2020-12-18T20:46:51.751939",
     "status": "completed"
    },
    "tags": []
   },
   "outputs": [],
   "source": [
    "# transform the dataset\n",
    "\n",
    "from imblearn.over_sampling import SMOTE\n",
    "\n",
    "oversample = SMOTE()\n",
    "X_smote, y_smote = oversample.fit_resample(X, y)"
   ]
  },
  {
   "cell_type": "code",
   "execution_count": 79,
   "metadata": {
    "execution": {
     "iopub.execute_input": "2020-12-18T20:46:57.965985Z",
     "iopub.status.busy": "2020-12-18T20:46:57.965146Z",
     "iopub.status.idle": "2020-12-18T20:46:58.424681Z",
     "shell.execute_reply": "2020-12-18T20:46:58.424082Z"
    },
    "papermill": {
     "duration": 0.597155,
     "end_time": "2020-12-18T20:46:58.424793",
     "exception": false,
     "start_time": "2020-12-18T20:46:57.827638",
     "status": "completed"
    },
    "tags": []
   },
   "outputs": [
    {
     "name": "stdout",
     "output_type": "stream",
     "text": [
      "Before OverSampling, counts of label '1': 48451\n",
      "Before OverSampling, counts of label '0': 735222 \n",
      "\n",
      "After OverSampling, the shape of train_X: (548571, 9)\n",
      "After OverSampling, the shape of train_y: (548571,) \n",
      "\n",
      "After OverSampling, counts of label '1': 33937\n",
      "After OverSampling, counts of label '0': 514634\n"
     ]
    }
   ],
   "source": [
    "print(\"Before OverSampling, counts of label '1': {}\".format(sum(y==1)))\n",
    "print(\"Before OverSampling, counts of label '0': {} \\n\".format(sum(y==0)))\n",
    "\n",
    "print('After OverSampling, the shape of train_X: {}'.format(X_train.shape))\n",
    "print('After OverSampling, the shape of train_y: {} \\n'.format(y_train.shape))\n",
    "\n",
    "print(\"After OverSampling, counts of label '1': {}\".format(sum(y_train==1)))\n",
    "print(\"After OverSampling, counts of label '0': {}\".format(sum(y_train==0)))"
   ]
  },
  {
   "cell_type": "code",
   "execution_count": 80,
   "metadata": {
    "execution": {
     "iopub.execute_input": "2020-12-18T20:46:58.691785Z",
     "iopub.status.busy": "2020-12-18T20:46:58.691081Z",
     "iopub.status.idle": "2020-12-18T20:46:58.694891Z",
     "shell.execute_reply": "2020-12-18T20:46:58.694328Z"
    },
    "papermill": {
     "duration": 0.13936,
     "end_time": "2020-12-18T20:46:58.695006",
     "exception": false,
     "start_time": "2020-12-18T20:46:58.555646",
     "status": "completed"
    },
    "tags": []
   },
   "outputs": [],
   "source": [
    "X_val = test_wmf"
   ]
  },
  {
   "cell_type": "code",
   "execution_count": 81,
   "metadata": {
    "execution": {
     "iopub.execute_input": "2020-12-18T20:46:58.962711Z",
     "iopub.status.busy": "2020-12-18T20:46:58.961967Z",
     "iopub.status.idle": "2020-12-18T20:46:59.278633Z",
     "shell.execute_reply": "2020-12-18T20:46:59.278006Z"
    },
    "papermill": {
     "duration": 0.45309,
     "end_time": "2020-12-18T20:46:59.278753",
     "exception": false,
     "start_time": "2020-12-18T20:46:58.825663",
     "status": "completed"
    },
    "tags": []
   },
   "outputs": [],
   "source": [
    "from sklearn.model_selection import train_test_split\n",
    "\n",
    "X_train, X_test, y_train, y_test = train_test_split(X_smote, y_smote, test_size=0.3, random_state=0)"
   ]
  },
  {
   "cell_type": "code",
   "execution_count": 82,
   "metadata": {
    "execution": {
     "iopub.execute_input": "2020-12-18T20:46:59.545319Z",
     "iopub.status.busy": "2020-12-18T20:46:59.544153Z",
     "iopub.status.idle": "2020-12-18T20:46:59.549221Z",
     "shell.execute_reply": "2020-12-18T20:46:59.549994Z"
    },
    "papermill": {
     "duration": 0.142544,
     "end_time": "2020-12-18T20:46:59.550182",
     "exception": false,
     "start_time": "2020-12-18T20:46:59.407638",
     "status": "completed"
    },
    "tags": []
   },
   "outputs": [
    {
     "name": "stdout",
     "output_type": "stream",
     "text": [
      "Number transactions X_train dataset:  (1029310, 9)\n",
      "Number transactions y_train dataset:  (1029310,)\n",
      "Number transactions X_test dataset:  (441134, 9)\n",
      "Number transactions y_test dataset:  (441134,)\n"
     ]
    }
   ],
   "source": [
    "print(\"Number transactions X_train dataset: \", X_train.shape)\n",
    "print(\"Number transactions y_train dataset: \", y_train.shape)\n",
    "print(\"Number transactions X_test dataset: \", X_test.shape)\n",
    "print(\"Number transactions y_test dataset: \", y_test.shape)"
   ]
  },
  {
   "cell_type": "code",
   "execution_count": 83,
   "metadata": {
    "execution": {
     "iopub.execute_input": "2020-12-18T20:46:59.953401Z",
     "iopub.status.busy": "2020-12-18T20:46:59.952686Z",
     "iopub.status.idle": "2020-12-18T20:47:17.137027Z",
     "shell.execute_reply": "2020-12-18T20:47:17.135482Z"
    },
    "papermill": {
     "duration": 17.453461,
     "end_time": "2020-12-18T20:47:17.137204",
     "exception": false,
     "start_time": "2020-12-18T20:46:59.683743",
     "status": "completed"
    },
    "tags": []
   },
   "outputs": [
    {
     "name": "stdout",
     "output_type": "stream",
     "text": [
      "Before OverSampling, counts of label '1': 48451\n",
      "Before OverSampling, counts of label '0': 735222 \n",
      "\n",
      "After OverSampling, the shape of train_X: (1470444, 9)\n",
      "After OverSampling, the shape of train_y: (1470444,) \n",
      "\n",
      "After OverSampling, counts of label '1': 735222\n",
      "After OverSampling, counts of label '0': 735222\n"
     ]
    }
   ],
   "source": [
    "print(\"Before OverSampling, counts of label '1': {}\".format(sum(y==1)))\n",
    "print(\"Before OverSampling, counts of label '0': {} \\n\".format(sum(y==0)))\n",
    "\n",
    "sm = SMOTE(random_state=2)\n",
    "X_train_res, y_train_res = sm.fit_sample(X, y.ravel())\n",
    "\n",
    "print('After OverSampling, the shape of train_X: {}'.format(X_train_res.shape))\n",
    "print('After OverSampling, the shape of train_y: {} \\n'.format(y_train_res.shape))\n",
    "\n",
    "print(\"After OverSampling, counts of label '1': {}\".format(sum(y_train_res==1)))\n",
    "print(\"After OverSampling, counts of label '0': {}\".format(sum(y_train_res==0)))"
   ]
  },
  {
   "cell_type": "code",
   "execution_count": null,
   "metadata": {
    "papermill": {
     "duration": 0.130988,
     "end_time": "2020-12-18T20:47:17.401116",
     "exception": false,
     "start_time": "2020-12-18T20:47:17.270128",
     "status": "completed"
    },
    "tags": []
   },
   "outputs": [],
   "source": []
  },
  {
   "cell_type": "code",
   "execution_count": 84,
   "metadata": {
    "execution": {
     "iopub.execute_input": "2020-12-18T20:47:17.675062Z",
     "iopub.status.busy": "2020-12-18T20:47:17.674080Z",
     "iopub.status.idle": "2020-12-18T20:48:19.307765Z",
     "shell.execute_reply": "2020-12-18T20:48:19.306858Z"
    },
    "papermill": {
     "duration": 61.774046,
     "end_time": "2020-12-18T20:48:19.307961",
     "exception": false,
     "start_time": "2020-12-18T20:47:17.533915",
     "status": "completed"
    },
    "tags": []
   },
   "outputs": [
    {
     "name": "stdout",
     "output_type": "stream",
     "text": [
      "Fitting 5 folds for each of 10 candidates, totalling 50 fits\n"
     ]
    },
    {
     "name": "stderr",
     "output_type": "stream",
     "text": [
      "[Parallel(n_jobs=3)]: Using backend LokyBackend with 3 concurrent workers.\n",
      "[Parallel(n_jobs=3)]: Done  12 tasks      | elapsed:   15.2s\n",
      "[Parallel(n_jobs=3)]: Done  50 out of  50 | elapsed:  1.0min finished\n"
     ]
    },
    {
     "data": {
      "text/plain": [
       "GridSearchCV(cv=5, estimator=LogisticRegression(), n_jobs=3,\n",
       "             param_grid={'C': array([ 1.,  2.,  3.,  4.,  5.,  6.,  7.,  8.,  9., 10.])},\n",
       "             verbose=5)"
      ]
     },
     "execution_count": 84,
     "metadata": {},
     "output_type": "execute_result"
    }
   ],
   "source": [
    "from sklearn.model_selection import GridSearchCV\n",
    "from sklearn.linear_model import LogisticRegression\n",
    "from sklearn.metrics import confusion_matrix, precision_recall_curve, auc, \\\n",
    "roc_auc_score, roc_curve, recall_score, classification_report\n",
    "\n",
    "parameters = {\n",
    "    'C': np.linspace(1, 10, 10)\n",
    "             }\n",
    "lr = LogisticRegression()\n",
    "clf = GridSearchCV(lr, parameters, cv=5, verbose=5, n_jobs=3)\n",
    "clf.fit(X_train_res, y_train_res.ravel())"
   ]
  },
  {
   "cell_type": "code",
   "execution_count": 85,
   "metadata": {
    "execution": {
     "iopub.execute_input": "2020-12-18T20:48:19.664057Z",
     "iopub.status.busy": "2020-12-18T20:48:19.663068Z",
     "iopub.status.idle": "2020-12-18T20:48:19.666917Z",
     "shell.execute_reply": "2020-12-18T20:48:19.667432Z"
    },
    "papermill": {
     "duration": 0.147281,
     "end_time": "2020-12-18T20:48:19.667595",
     "exception": false,
     "start_time": "2020-12-18T20:48:19.520314",
     "status": "completed"
    },
    "tags": []
   },
   "outputs": [
    {
     "data": {
      "text/plain": [
       "{'C': 1.0}"
      ]
     },
     "execution_count": 85,
     "metadata": {},
     "output_type": "execute_result"
    }
   ],
   "source": [
    "clf.best_params_"
   ]
  },
  {
   "cell_type": "code",
   "execution_count": 86,
   "metadata": {
    "execution": {
     "iopub.execute_input": "2020-12-18T20:48:19.945020Z",
     "iopub.status.busy": "2020-12-18T20:48:19.944329Z",
     "iopub.status.idle": "2020-12-18T20:48:28.792284Z",
     "shell.execute_reply": "2020-12-18T20:48:28.791678Z"
    },
    "papermill": {
     "duration": 8.98836,
     "end_time": "2020-12-18T20:48:28.792422",
     "exception": false,
     "start_time": "2020-12-18T20:48:19.804062",
     "status": "completed"
    },
    "tags": []
   },
   "outputs": [
    {
     "name": "stdout",
     "output_type": "stream",
     "text": [
      "[LibLinear]"
     ]
    },
    {
     "data": {
      "text/plain": [
       "LogisticRegression(C=1, solver='liblinear', verbose=5)"
      ]
     },
     "execution_count": 86,
     "metadata": {},
     "output_type": "execute_result"
    }
   ],
   "source": [
    "model_smote_lr = LogisticRegression(C=1,penalty='l2', solver = 'liblinear', verbose=5)\n",
    "model_smote_lr.fit(X_train, y_train)"
   ]
  },
  {
   "cell_type": "code",
   "execution_count": 87,
   "metadata": {
    "execution": {
     "iopub.execute_input": "2020-12-18T20:48:29.088288Z",
     "iopub.status.busy": "2020-12-18T20:48:29.087540Z",
     "iopub.status.idle": "2020-12-18T20:48:29.091366Z",
     "shell.execute_reply": "2020-12-18T20:48:29.090645Z"
    },
    "papermill": {
     "duration": 0.155726,
     "end_time": "2020-12-18T20:48:29.091491",
     "exception": false,
     "start_time": "2020-12-18T20:48:28.935765",
     "status": "completed"
    },
    "tags": []
   },
   "outputs": [],
   "source": [
    "import itertools\n",
    "\n",
    "def plot_confusion_matrix(cm, classes,\n",
    "                          normalize=False,\n",
    "                          title='Confusion matrix',\n",
    "                          cmap=plt.cm.Blues):\n",
    "    \"\"\"\n",
    "    This function prints and plots the confusion matrix.\n",
    "    Normalization can be applied by setting `normalize=True`.\n",
    "    \"\"\"\n",
    "    plt.imshow(cm, interpolation='nearest', cmap=cmap)\n",
    "    plt.title(title)\n",
    "    plt.colorbar()\n",
    "    tick_marks = np.arange(len(classes))\n",
    "    plt.xticks(tick_marks, classes, rotation=0)\n",
    "    plt.yticks(tick_marks, classes)\n",
    "\n",
    "    if normalize:\n",
    "        cm = cm.astype('float') / cm.sum(axis=1)[:, np.newaxis]\n",
    "        #print(\"Normalized confusion matrix\")\n",
    "    else:\n",
    "        1#print('Confusion matrix, without normalization')\n",
    "\n",
    "    #print(cm)\n",
    "\n",
    "    thresh = cm.max() / 2.\n",
    "    for i, j in itertools.product(range(cm.shape[0]), range(cm.shape[1])):\n",
    "        plt.text(j, i, cm[i, j],\n",
    "                 horizontalalignment=\"center\",\n",
    "                 color=\"white\" if cm[i, j] > thresh else \"black\")\n",
    "\n",
    "    plt.tight_layout()\n",
    "    plt.ylabel('True label')\n",
    "    plt.xlabel('Predicted label')"
   ]
  },
  {
   "cell_type": "code",
   "execution_count": 88,
   "metadata": {
    "execution": {
     "iopub.execute_input": "2020-12-18T20:48:29.375238Z",
     "iopub.status.busy": "2020-12-18T20:48:29.374480Z",
     "iopub.status.idle": "2020-12-18T20:48:31.180537Z",
     "shell.execute_reply": "2020-12-18T20:48:31.179763Z"
    },
    "papermill": {
     "duration": 1.953111,
     "end_time": "2020-12-18T20:48:31.180683",
     "exception": false,
     "start_time": "2020-12-18T20:48:29.227572",
     "status": "completed"
    },
    "tags": []
   },
   "outputs": [
    {
     "name": "stdout",
     "output_type": "stream",
     "text": [
      "Recall metric in the train dataset: 64.13680205463605%\n"
     ]
    },
    {
     "data": {
      "image/png": "[encoded data removed]",
      "text/plain": [
       "<Figure size 432x288 with 2 Axes>"
      ]
     },
     "metadata": {
      "needs_background": "light"
     },
     "output_type": "display_data"
    }
   ],
   "source": [
    "y_train_pre = model_smote_lr.predict(X_train)\n",
    "\n",
    "cnf_matrix_tra = confusion_matrix(y_train, y_train_pre)\n",
    "\n",
    "print(\"Recall metric in the train dataset: {}%\".format(100*cnf_matrix_tra[1,1]/(cnf_matrix_tra[1,0]+cnf_matrix_tra[1,1])))\n",
    "\n",
    "\n",
    "class_names = [0,1]\n",
    "plt.figure()\n",
    "plot_confusion_matrix(cnf_matrix_tra , classes=class_names, title='Confusion matrix')\n",
    "plt.show()"
   ]
  },
  {
   "cell_type": "code",
   "execution_count": 89,
   "metadata": {
    "execution": {
     "iopub.execute_input": "2020-12-18T20:48:31.469208Z",
     "iopub.status.busy": "2020-12-18T20:48:31.468335Z",
     "iopub.status.idle": "2020-12-18T20:48:32.574839Z",
     "shell.execute_reply": "2020-12-18T20:48:32.575673Z"
    },
    "papermill": {
     "duration": 1.257742,
     "end_time": "2020-12-18T20:48:32.575974",
     "exception": false,
     "start_time": "2020-12-18T20:48:31.318232",
     "status": "completed"
    },
    "tags": []
   },
   "outputs": [
    {
     "name": "stdout",
     "output_type": "stream",
     "text": [
      "Recall metric in the testing dataset: 63.95304088774997%\n"
     ]
    },
    {
     "data": {
      "image/png": "[encoded data removed]",
      "text/plain": [
       "<Figure size 432x288 with 2 Axes>"
      ]
     },
     "metadata": {
      "needs_background": "light"
     },
     "output_type": "display_data"
    }
   ],
   "source": [
    "y_pre = model_smote_lr.predict(X_test)\n",
    "\n",
    "cnf_matrix = confusion_matrix(y_test, y_pre)\n",
    "\n",
    "f1_score(y_test, y_pre)\n",
    "print(\"Recall metric in the testing dataset: {}%\".format(100*cnf_matrix[1,1]/(cnf_matrix[1,0]+cnf_matrix[1,1])))\n",
    "#print(\"Precision metric in the testing dataset: {}%\".format(100*cnf_matrix[0,0]/(cnf_matrix[0,0]+cnf_matrix[1,0])))\n",
    "# Plot non-normalized confusion matrix\n",
    "class_names = [0,1]\n",
    "plt.figure()\n",
    "plot_confusion_matrix(cnf_matrix , classes=class_names, title='Confusion matrix')\n",
    "plt.show()"
   ]
  },
  {
   "cell_type": "code",
   "execution_count": 90,
   "metadata": {
    "execution": {
     "iopub.execute_input": "2020-12-18T20:48:32.859386Z",
     "iopub.status.busy": "2020-12-18T20:48:32.858662Z",
     "iopub.status.idle": "2020-12-18T20:48:33.102000Z",
     "shell.execute_reply": "2020-12-18T20:48:33.100528Z"
    },
    "papermill": {
     "duration": 0.388768,
     "end_time": "2020-12-18T20:48:33.102297",
     "exception": false,
     "start_time": "2020-12-18T20:48:32.713529",
     "status": "completed"
    },
    "tags": []
   },
   "outputs": [
    {
     "data": {
      "text/plain": [
       "0.6770906981816265"
      ]
     },
     "execution_count": 90,
     "metadata": {},
     "output_type": "execute_result"
    }
   ],
   "source": [
    "f1_score(y_test, y_pre)"
   ]
  },
  {
   "cell_type": "code",
   "execution_count": 91,
   "metadata": {
    "execution": {
     "iopub.execute_input": "2020-12-18T20:48:33.399739Z",
     "iopub.status.busy": "2020-12-18T20:48:33.399016Z",
     "iopub.status.idle": "2020-12-18T20:48:35.174515Z",
     "shell.execute_reply": "2020-12-18T20:48:35.173708Z"
    },
    "papermill": {
     "duration": 1.920312,
     "end_time": "2020-12-18T20:48:35.174646",
     "exception": false,
     "start_time": "2020-12-18T20:48:33.254334",
     "status": "completed"
    },
    "tags": []
   },
   "outputs": [
    {
     "name": "stdout",
     "output_type": "stream",
     "text": [
      "              precision    recall  f1-score   support\n",
      "\n",
      "           0       0.67      0.75      0.71    220261\n",
      "           1       0.72      0.64      0.68    220873\n",
      "\n",
      "    accuracy                           0.69    441134\n",
      "   macro avg       0.70      0.69      0.69    441134\n",
      "weighted avg       0.70      0.69      0.69    441134\n",
      "\n",
      "[[165148  55113]\n",
      " [ 79618 141255]]\n",
      "F-measure: 0.677\n"
     ]
    }
   ],
   "source": [
    "print(classification_report(y_test, y_pre))\n",
    "print(confusion_matrix(y_test, y_pre))\n",
    "print(f'F-measure: %.3f' % f1_score(y_test, y_pre))"
   ]
  },
  {
   "cell_type": "code",
   "execution_count": 92,
   "metadata": {
    "execution": {
     "iopub.execute_input": "2020-12-18T20:48:35.460325Z",
     "iopub.status.busy": "2020-12-18T20:48:35.459568Z",
     "iopub.status.idle": "2020-12-18T20:48:39.773721Z",
     "shell.execute_reply": "2020-12-18T20:48:39.773040Z"
    },
    "papermill": {
     "duration": 4.459741,
     "end_time": "2020-12-18T20:48:39.773877",
     "exception": false,
     "start_time": "2020-12-18T20:48:35.314136",
     "status": "completed"
    },
    "tags": []
   },
   "outputs": [
    {
     "name": "stdout",
     "output_type": "stream",
     "text": [
      "              precision    recall  f1-score   support\n",
      "\n",
      "           0       0.68      0.75      0.71    514961\n",
      "           1       0.72      0.64      0.68    514349\n",
      "\n",
      "    accuracy                           0.70   1029310\n",
      "   macro avg       0.70      0.70      0.69   1029310\n",
      "weighted avg       0.70      0.70      0.69   1029310\n",
      "\n",
      "[[386140 128821]\n",
      " [184462 329887]]\n",
      "F-measure: 0.678\n"
     ]
    }
   ],
   "source": [
    "print(classification_report(y_train, y_train_pre))\n",
    "print(confusion_matrix(y_train, y_train_pre))\n",
    "print(f'F-measure: %.3f' % f1_score(y_train, y_train_pre))"
   ]
  },
  {
   "cell_type": "code",
   "execution_count": 93,
   "metadata": {
    "execution": {
     "iopub.execute_input": "2020-12-18T20:48:40.074430Z",
     "iopub.status.busy": "2020-12-18T20:48:40.073648Z",
     "iopub.status.idle": "2020-12-18T20:48:40.098732Z",
     "shell.execute_reply": "2020-12-18T20:48:40.098017Z"
    },
    "papermill": {
     "duration": 0.177353,
     "end_time": "2020-12-18T20:48:40.098862",
     "exception": false,
     "start_time": "2020-12-18T20:48:39.921509",
     "status": "completed"
    },
    "tags": []
   },
   "outputs": [],
   "source": [
    "# Step 4: Evaluate the model\n",
    "\n",
    "y_predict = model_smote_lr.predict(X_val)\n"
   ]
  },
  {
   "cell_type": "code",
   "execution_count": 94,
   "metadata": {
    "execution": {
     "iopub.execute_input": "2020-12-18T20:48:40.391196Z",
     "iopub.status.busy": "2020-12-18T20:48:40.390424Z",
     "iopub.status.idle": "2020-12-18T20:48:40.395344Z",
     "shell.execute_reply": "2020-12-18T20:48:40.394552Z"
    },
    "papermill": {
     "duration": 0.15144,
     "end_time": "2020-12-18T20:48:40.395494",
     "exception": false,
     "start_time": "2020-12-18T20:48:40.244054",
     "status": "completed"
    },
    "tags": []
   },
   "outputs": [],
   "source": [
    "y_pred = pd.DataFrame(y_predict)"
   ]
  },
  {
   "cell_type": "code",
   "execution_count": 95,
   "metadata": {
    "execution": {
     "iopub.execute_input": "2020-12-18T20:48:40.689158Z",
     "iopub.status.busy": "2020-12-18T20:48:40.688220Z",
     "iopub.status.idle": "2020-12-18T20:48:40.693698Z",
     "shell.execute_reply": "2020-12-18T20:48:40.693055Z"
    },
    "papermill": {
     "duration": 0.15648,
     "end_time": "2020-12-18T20:48:40.693820",
     "exception": false,
     "start_time": "2020-12-18T20:48:40.537340",
     "status": "completed"
    },
    "tags": []
   },
   "outputs": [
    {
     "data": {
      "text/html": [
       "<div>\n",
       "<style scoped>\n",
       "    .dataframe tbody tr th:only-of-type {\n",
       "        vertical-align: middle;\n",
       "    }\n",
       "\n",
       "    .dataframe tbody tr th {\n",
       "        vertical-align: top;\n",
       "    }\n",
       "\n",
       "    .dataframe thead th {\n",
       "        text-align: right;\n",
       "    }\n",
       "</style>\n",
       "<table border=\"1\" class=\"dataframe\">\n",
       "  <thead>\n",
       "    <tr style=\"text-align: right;\">\n",
       "      <th></th>\n",
       "      <th>0</th>\n",
       "    </tr>\n",
       "  </thead>\n",
       "  <tbody>\n",
       "    <tr>\n",
       "      <th>0</th>\n",
       "      <td>1</td>\n",
       "    </tr>\n",
       "    <tr>\n",
       "      <th>1</th>\n",
       "      <td>0</td>\n",
       "    </tr>\n",
       "    <tr>\n",
       "      <th>2</th>\n",
       "      <td>0</td>\n",
       "    </tr>\n",
       "    <tr>\n",
       "      <th>3</th>\n",
       "      <td>0</td>\n",
       "    </tr>\n",
       "    <tr>\n",
       "      <th>4</th>\n",
       "      <td>0</td>\n",
       "    </tr>\n",
       "  </tbody>\n",
       "</table>\n",
       "</div>"
      ],
      "text/plain": [
       "   0\n",
       "0  1\n",
       "1  0\n",
       "2  0\n",
       "3  0\n",
       "4  0"
      ]
     },
     "execution_count": 95,
     "metadata": {},
     "output_type": "execute_result"
    }
   ],
   "source": [
    "y_pred.head(5)"
   ]
  },
  {
   "cell_type": "code",
   "execution_count": 96,
   "metadata": {
    "execution": {
     "iopub.execute_input": "2020-12-18T20:48:40.991833Z",
     "iopub.status.busy": "2020-12-18T20:48:40.991127Z",
     "iopub.status.idle": "2020-12-18T20:48:42.124802Z",
     "shell.execute_reply": "2020-12-18T20:48:42.124139Z"
    },
    "papermill": {
     "duration": 1.286346,
     "end_time": "2020-12-18T20:48:42.124943",
     "exception": false,
     "start_time": "2020-12-18T20:48:40.838597",
     "status": "completed"
    },
    "tags": []
   },
   "outputs": [],
   "source": [
    "submission_mf = pd.read_csv(\"/kaggle/input/quora/test.csv\")"
   ]
  },
  {
   "cell_type": "code",
   "execution_count": 97,
   "metadata": {
    "execution": {
     "iopub.execute_input": "2020-12-18T20:48:42.420215Z",
     "iopub.status.busy": "2020-12-18T20:48:42.419339Z",
     "iopub.status.idle": "2020-12-18T20:48:42.423545Z",
     "shell.execute_reply": "2020-12-18T20:48:42.422943Z"
    },
    "papermill": {
     "duration": 0.155869,
     "end_time": "2020-12-18T20:48:42.423690",
     "exception": false,
     "start_time": "2020-12-18T20:48:42.267821",
     "status": "completed"
    },
    "tags": []
   },
   "outputs": [
    {
     "data": {
      "text/html": [
       "<div>\n",
       "<style scoped>\n",
       "    .dataframe tbody tr th:only-of-type {\n",
       "        vertical-align: middle;\n",
       "    }\n",
       "\n",
       "    .dataframe tbody tr th {\n",
       "        vertical-align: top;\n",
       "    }\n",
       "\n",
       "    .dataframe thead th {\n",
       "        text-align: right;\n",
       "    }\n",
       "</style>\n",
       "<table border=\"1\" class=\"dataframe\">\n",
       "  <thead>\n",
       "    <tr style=\"text-align: right;\">\n",
       "      <th></th>\n",
       "      <th>qid</th>\n",
       "      <th>question_text</th>\n",
       "    </tr>\n",
       "  </thead>\n",
       "  <tbody>\n",
       "    <tr>\n",
       "      <th>0</th>\n",
       "      <td>f56a9a31974dc66186e8</td>\n",
       "      <td>Is it a good idea to go through a phlebotomy c...</td>\n",
       "    </tr>\n",
       "    <tr>\n",
       "      <th>1</th>\n",
       "      <td>d957c3758060f45da303</td>\n",
       "      <td>How can I fix a lead into a camlin compass to ...</td>\n",
       "    </tr>\n",
       "    <tr>\n",
       "      <th>2</th>\n",
       "      <td>ad822d5abaedb9e247b9</td>\n",
       "      <td>How many animes are there in world?</td>\n",
       "    </tr>\n",
       "    <tr>\n",
       "      <th>3</th>\n",
       "      <td>4e979c23eeb6a4bd1f2e</td>\n",
       "      <td>How do I tell my family I cut?</td>\n",
       "    </tr>\n",
       "    <tr>\n",
       "      <th>4</th>\n",
       "      <td>333cc031262566b8da49</td>\n",
       "      <td>How do I save down my bitcoin image address fr...</td>\n",
       "    </tr>\n",
       "  </tbody>\n",
       "</table>\n",
       "</div>"
      ],
      "text/plain": [
       "                    qid                                      question_text\n",
       "0  f56a9a31974dc66186e8  Is it a good idea to go through a phlebotomy c...\n",
       "1  d957c3758060f45da303  How can I fix a lead into a camlin compass to ...\n",
       "2  ad822d5abaedb9e247b9                How many animes are there in world?\n",
       "3  4e979c23eeb6a4bd1f2e                     How do I tell my family I cut?\n",
       "4  333cc031262566b8da49  How do I save down my bitcoin image address fr..."
      ]
     },
     "execution_count": 97,
     "metadata": {},
     "output_type": "execute_result"
    }
   ],
   "source": [
    "submission_mf.head(5)"
   ]
  },
  {
   "cell_type": "code",
   "execution_count": 98,
   "metadata": {
    "execution": {
     "iopub.execute_input": "2020-12-18T20:48:42.715501Z",
     "iopub.status.busy": "2020-12-18T20:48:42.714708Z",
     "iopub.status.idle": "2020-12-18T20:48:42.735310Z",
     "shell.execute_reply": "2020-12-18T20:48:42.735900Z"
    },
    "papermill": {
     "duration": 0.169025,
     "end_time": "2020-12-18T20:48:42.736058",
     "exception": false,
     "start_time": "2020-12-18T20:48:42.567033",
     "status": "completed"
    },
    "tags": []
   },
   "outputs": [],
   "source": [
    "out_df = pd.DataFrame({\"qid\":submission_mf[\"qid\"].values})"
   ]
  },
  {
   "cell_type": "code",
   "execution_count": 99,
   "metadata": {
    "execution": {
     "iopub.execute_input": "2020-12-18T20:48:43.037456Z",
     "iopub.status.busy": "2020-12-18T20:48:43.036756Z",
     "iopub.status.idle": "2020-12-18T20:48:43.043230Z",
     "shell.execute_reply": "2020-12-18T20:48:43.043791Z"
    },
    "papermill": {
     "duration": 0.158908,
     "end_time": "2020-12-18T20:48:43.043943",
     "exception": false,
     "start_time": "2020-12-18T20:48:42.885035",
     "status": "completed"
    },
    "tags": []
   },
   "outputs": [],
   "source": [
    "out_df['target'] = y_pred"
   ]
  },
  {
   "cell_type": "code",
   "execution_count": 100,
   "metadata": {
    "execution": {
     "iopub.execute_input": "2020-12-18T20:48:43.335501Z",
     "iopub.status.busy": "2020-12-18T20:48:43.334771Z",
     "iopub.status.idle": "2020-12-18T20:48:44.776609Z",
     "shell.execute_reply": "2020-12-18T20:48:44.775755Z"
    },
    "papermill": {
     "duration": 1.58838,
     "end_time": "2020-12-18T20:48:44.776746",
     "exception": false,
     "start_time": "2020-12-18T20:48:43.188366",
     "status": "completed"
    },
    "tags": []
   },
   "outputs": [],
   "source": [
    "out_df.to_csv(\"Outliers_submission-mf.csv\", index=False)"
   ]
  },
  {
   "cell_type": "code",
   "execution_count": 101,
   "metadata": {
    "execution": {
     "iopub.execute_input": "2020-12-18T20:48:45.081666Z",
     "iopub.status.busy": "2020-12-18T20:48:45.080903Z",
     "iopub.status.idle": "2020-12-18T20:48:45.085313Z",
     "shell.execute_reply": "2020-12-18T20:48:45.084755Z"
    },
    "papermill": {
     "duration": 0.162042,
     "end_time": "2020-12-18T20:48:45.085440",
     "exception": false,
     "start_time": "2020-12-18T20:48:44.923398",
     "status": "completed"
    },
    "tags": []
   },
   "outputs": [
    {
     "data": {
      "text/html": [
       "<div>\n",
       "<style scoped>\n",
       "    .dataframe tbody tr th:only-of-type {\n",
       "        vertical-align: middle;\n",
       "    }\n",
       "\n",
       "    .dataframe tbody tr th {\n",
       "        vertical-align: top;\n",
       "    }\n",
       "\n",
       "    .dataframe thead th {\n",
       "        text-align: right;\n",
       "    }\n",
       "</style>\n",
       "<table border=\"1\" class=\"dataframe\">\n",
       "  <thead>\n",
       "    <tr style=\"text-align: right;\">\n",
       "      <th></th>\n",
       "      <th>qid</th>\n",
       "      <th>target</th>\n",
       "    </tr>\n",
       "  </thead>\n",
       "  <tbody>\n",
       "    <tr>\n",
       "      <th>0</th>\n",
       "      <td>f56a9a31974dc66186e8</td>\n",
       "      <td>1</td>\n",
       "    </tr>\n",
       "    <tr>\n",
       "      <th>1</th>\n",
       "      <td>d957c3758060f45da303</td>\n",
       "      <td>0</td>\n",
       "    </tr>\n",
       "    <tr>\n",
       "      <th>2</th>\n",
       "      <td>ad822d5abaedb9e247b9</td>\n",
       "      <td>0</td>\n",
       "    </tr>\n",
       "    <tr>\n",
       "      <th>3</th>\n",
       "      <td>4e979c23eeb6a4bd1f2e</td>\n",
       "      <td>0</td>\n",
       "    </tr>\n",
       "    <tr>\n",
       "      <th>4</th>\n",
       "      <td>333cc031262566b8da49</td>\n",
       "      <td>0</td>\n",
       "    </tr>\n",
       "  </tbody>\n",
       "</table>\n",
       "</div>"
      ],
      "text/plain": [
       "                    qid  target\n",
       "0  f56a9a31974dc66186e8       1\n",
       "1  d957c3758060f45da303       0\n",
       "2  ad822d5abaedb9e247b9       0\n",
       "3  4e979c23eeb6a4bd1f2e       0\n",
       "4  333cc031262566b8da49       0"
      ]
     },
     "execution_count": 101,
     "metadata": {},
     "output_type": "execute_result"
    }
   ],
   "source": [
    "out_df.head(5)"
   ]
  },
  {
   "cell_type": "code",
   "execution_count": null,
   "metadata": {
    "papermill": {
     "duration": 0.147019,
     "end_time": "2020-12-18T20:48:45.376962",
     "exception": false,
     "start_time": "2020-12-18T20:48:45.229943",
     "status": "completed"
    },
    "tags": []
   },
   "outputs": [],
   "source": []
  },
  {
   "cell_type": "code",
   "execution_count": 102,
   "metadata": {
    "execution": {
     "iopub.execute_input": "2020-12-18T20:48:45.690178Z",
     "iopub.status.busy": "2020-12-18T20:48:45.689404Z",
     "iopub.status.idle": "2020-12-18T20:48:50.081598Z",
     "shell.execute_reply": "2020-12-18T20:48:50.082273Z"
    },
    "papermill": {
     "duration": 4.560772,
     "end_time": "2020-12-18T20:48:50.082469",
     "exception": false,
     "start_time": "2020-12-18T20:48:45.521697",
     "status": "completed"
    },
    "tags": []
   },
   "outputs": [],
   "source": [
    "test_lemm = pd.read_csv(\"/kaggle/input/processed-sets/QIQC_TextProcessed_TestSet.csv\")"
   ]
  },
  {
   "cell_type": "code",
   "execution_count": 103,
   "metadata": {
    "execution": {
     "iopub.execute_input": "2020-12-18T20:48:50.392243Z",
     "iopub.status.busy": "2020-12-18T20:48:50.391511Z",
     "iopub.status.idle": "2020-12-18T20:48:50.393694Z",
     "shell.execute_reply": "2020-12-18T20:48:50.394208Z"
    },
    "papermill": {
     "duration": 0.163105,
     "end_time": "2020-12-18T20:48:50.394407",
     "exception": false,
     "start_time": "2020-12-18T20:48:50.231302",
     "status": "completed"
    },
    "tags": []
   },
   "outputs": [],
   "source": [
    "from sklearn.feature_extraction.text import CountVectorizer, TfidfVectorizer, TfidfTransformer"
   ]
  },
  {
   "cell_type": "code",
   "execution_count": 104,
   "metadata": {
    "execution": {
     "iopub.execute_input": "2020-12-18T20:48:50.736243Z",
     "iopub.status.busy": "2020-12-18T20:48:50.735447Z",
     "iopub.status.idle": "2020-12-18T20:48:50.780311Z",
     "shell.execute_reply": "2020-12-18T20:48:50.780917Z"
    },
    "papermill": {
     "duration": 0.21715,
     "end_time": "2020-12-18T20:48:50.781079",
     "exception": false,
     "start_time": "2020-12-18T20:48:50.563929",
     "status": "completed"
    },
    "tags": []
   },
   "outputs": [
    {
     "ename": "NameError",
     "evalue": "name 'model' is not defined",
     "output_type": "error",
     "traceback": [
      "\u001b[0;31m---------------------------------------------------------------------------\u001b[0m",
      "\u001b[0;31mNameError\u001b[0m                                 Traceback (most recent call last)",
      "\u001b[0;32m<ipython-input-104-2ac887361ddf>\u001b[0m in \u001b[0;36m<module>\u001b[0;34m\u001b[0m\n\u001b[0;32m----> 1\u001b[0;31m \u001b[0mmodel\u001b[0m\u001b[0;34m.\u001b[0m\u001b[0mclasses_\u001b[0m\u001b[0;34m\u001b[0m\u001b[0;34m\u001b[0m\u001b[0m\n\u001b[0m",
      "\u001b[0;31mNameError\u001b[0m: name 'model' is not defined"
     ]
    }
   ],
   "source": [
    "model.classes_"
   ]
  },
  {
   "cell_type": "markdown",
   "metadata": {
    "papermill": {
     "duration": 0.151767,
     "end_time": "2020-12-18T20:48:51.083208",
     "exception": false,
     "start_time": "2020-12-18T20:48:50.931441",
     "status": "completed"
    },
    "tags": []
   },
   "source": [
    "# Word Embedding - Tf-Idf"
   ]
  },
  {
   "cell_type": "code",
   "execution_count": 105,
   "metadata": {
    "execution": {
     "iopub.execute_input": "2020-12-18T20:48:51.389207Z",
     "iopub.status.busy": "2020-12-18T20:48:51.388370Z",
     "iopub.status.idle": "2020-12-18T20:48:51.395769Z",
     "shell.execute_reply": "2020-12-18T20:48:51.394867Z"
    },
    "papermill": {
     "duration": 0.163546,
     "end_time": "2020-12-18T20:48:51.395919",
     "exception": false,
     "start_time": "2020-12-18T20:48:51.232373",
     "status": "completed"
    },
    "tags": []
   },
   "outputs": [],
   "source": [
    "# Get the tfidf vectors #\n",
    "tfidf_vec = TfidfVectorizer(stop_words='english', ngram_range=(1,3), min_df=3, max_df=0.9, strip_accents='unicode', use_idf=True, smooth_idf=True, sublinear_tf=True)           \n",
    "  "
   ]
  },
  {
   "cell_type": "code",
   "execution_count": 106,
   "metadata": {
    "execution": {
     "iopub.execute_input": "2020-12-18T20:48:51.722365Z",
     "iopub.status.busy": "2020-12-18T20:48:51.719292Z",
     "iopub.status.idle": "2020-12-18T20:48:51.726605Z",
     "shell.execute_reply": "2020-12-18T20:48:51.727144Z"
    },
    "papermill": {
     "duration": 0.176796,
     "end_time": "2020-12-18T20:48:51.727322",
     "exception": false,
     "start_time": "2020-12-18T20:48:51.550526",
     "status": "completed"
    },
    "tags": []
   },
   "outputs": [
    {
     "ename": "NameError",
     "evalue": "name 'train_lemm' is not defined",
     "output_type": "error",
     "traceback": [
      "\u001b[0;31m---------------------------------------------------------------------------\u001b[0m",
      "\u001b[0;31mNameError\u001b[0m                                 Traceback (most recent call last)",
      "\u001b[0;32m<ipython-input-106-7b5f498a1327>\u001b[0m in \u001b[0;36m<module>\u001b[0;34m\u001b[0m\n\u001b[0;32m----> 1\u001b[0;31m \u001b[0mtrain_tfidf\u001b[0m \u001b[0;34m=\u001b[0m \u001b[0mtfidf_vec\u001b[0m\u001b[0;34m.\u001b[0m\u001b[0mfit_transform\u001b[0m\u001b[0;34m(\u001b[0m\u001b[0mtrain_lemm\u001b[0m\u001b[0;34m[\u001b[0m\u001b[0;34m'lemm_str'\u001b[0m\u001b[0;34m]\u001b[0m\u001b[0;34m.\u001b[0m\u001b[0mvalues\u001b[0m\u001b[0;34m.\u001b[0m\u001b[0mastype\u001b[0m\u001b[0;34m(\u001b[0m\u001b[0;34m'U'\u001b[0m\u001b[0;34m)\u001b[0m\u001b[0;34m.\u001b[0m\u001b[0mtolist\u001b[0m\u001b[0;34m(\u001b[0m\u001b[0;34m)\u001b[0m\u001b[0;34m)\u001b[0m\u001b[0;34m\u001b[0m\u001b[0;34m\u001b[0m\u001b[0m\n\u001b[0m",
      "\u001b[0;31mNameError\u001b[0m: name 'train_lemm' is not defined"
     ]
    }
   ],
   "source": [
    "train_tfidf = tfidf_vec.fit_transform(train_lemm['lemm_str'].values.astype('U').tolist()) "
   ]
  },
  {
   "cell_type": "code",
   "execution_count": 107,
   "metadata": {
    "execution": {
     "iopub.execute_input": "2020-12-18T20:48:52.039363Z",
     "iopub.status.busy": "2020-12-18T20:48:52.038346Z",
     "iopub.status.idle": "2020-12-18T20:48:52.060753Z",
     "shell.execute_reply": "2020-12-18T20:48:52.059868Z"
    },
    "papermill": {
     "duration": 0.182757,
     "end_time": "2020-12-18T20:48:52.060891",
     "exception": false,
     "start_time": "2020-12-18T20:48:51.878134",
     "status": "completed"
    },
    "tags": []
   },
   "outputs": [
    {
     "ename": "NameError",
     "evalue": "name 'train_tfidf' is not defined",
     "output_type": "error",
     "traceback": [
      "\u001b[0;31m---------------------------------------------------------------------------\u001b[0m",
      "\u001b[0;31mNameError\u001b[0m                                 Traceback (most recent call last)",
      "\u001b[0;32m<ipython-input-107-4d37622ce9df>\u001b[0m in \u001b[0;36m<module>\u001b[0;34m\u001b[0m\n\u001b[0;32m----> 1\u001b[0;31m \u001b[0mtrain_tfidf\u001b[0m\u001b[0;34m.\u001b[0m\u001b[0mshape\u001b[0m\u001b[0;34m\u001b[0m\u001b[0;34m\u001b[0m\u001b[0m\n\u001b[0m",
      "\u001b[0;31mNameError\u001b[0m: name 'train_tfidf' is not defined"
     ]
    }
   ],
   "source": [
    "train_tfidf.shape"
   ]
  },
  {
   "cell_type": "code",
   "execution_count": 108,
   "metadata": {
    "execution": {
     "iopub.execute_input": "2020-12-18T20:48:53.349630Z",
     "iopub.status.busy": "2020-12-18T20:48:53.339906Z",
     "iopub.status.idle": "2020-12-18T20:48:53.886448Z",
     "shell.execute_reply": "2020-12-18T20:48:53.885862Z"
    },
    "papermill": {
     "duration": 1.675046,
     "end_time": "2020-12-18T20:48:53.886584",
     "exception": false,
     "start_time": "2020-12-18T20:48:52.211538",
     "status": "completed"
    },
    "tags": []
   },
   "outputs": [
    {
     "ename": "NotFittedError",
     "evalue": "The TF-IDF vectorizer is not fitted",
     "output_type": "error",
     "traceback": [
      "\u001b[0;31m---------------------------------------------------------------------------\u001b[0m",
      "\u001b[0;31mNotFittedError\u001b[0m                            Traceback (most recent call last)",
      "\u001b[0;32m<ipython-input-108-cc85b450bc0c>\u001b[0m in \u001b[0;36m<module>\u001b[0;34m\u001b[0m\n\u001b[0;32m----> 1\u001b[0;31m \u001b[0mtest_tfidf\u001b[0m \u001b[0;34m=\u001b[0m \u001b[0mtfidf_vec\u001b[0m\u001b[0;34m.\u001b[0m\u001b[0mtransform\u001b[0m\u001b[0;34m(\u001b[0m\u001b[0mtest_lemm\u001b[0m\u001b[0;34m[\u001b[0m\u001b[0;34m'lemm_str'\u001b[0m\u001b[0;34m]\u001b[0m\u001b[0;34m.\u001b[0m\u001b[0mvalues\u001b[0m\u001b[0;34m.\u001b[0m\u001b[0mastype\u001b[0m\u001b[0;34m(\u001b[0m\u001b[0;34m'U'\u001b[0m\u001b[0;34m)\u001b[0m\u001b[0;34m.\u001b[0m\u001b[0mtolist\u001b[0m\u001b[0;34m(\u001b[0m\u001b[0;34m)\u001b[0m\u001b[0;34m)\u001b[0m\u001b[0;34m\u001b[0m\u001b[0;34m\u001b[0m\u001b[0m\n\u001b[0m",
      "\u001b[0;32m/opt/conda/lib/python3.7/site-packages/sklearn/feature_extraction/text.py\u001b[0m in \u001b[0;36mtransform\u001b[0;34m(self, raw_documents, copy)\u001b[0m\n\u001b[1;32m   1870\u001b[0m             \u001b[0mTf\u001b[0m\u001b[0;34m-\u001b[0m\u001b[0midf\u001b[0m\u001b[0;34m-\u001b[0m\u001b[0mweighted\u001b[0m \u001b[0mdocument\u001b[0m\u001b[0;34m-\u001b[0m\u001b[0mterm\u001b[0m \u001b[0mmatrix\u001b[0m\u001b[0;34m.\u001b[0m\u001b[0;34m\u001b[0m\u001b[0;34m\u001b[0m\u001b[0m\n\u001b[1;32m   1871\u001b[0m         \"\"\"\n\u001b[0;32m-> 1872\u001b[0;31m         \u001b[0mcheck_is_fitted\u001b[0m\u001b[0;34m(\u001b[0m\u001b[0mself\u001b[0m\u001b[0;34m,\u001b[0m \u001b[0mmsg\u001b[0m\u001b[0;34m=\u001b[0m\u001b[0;34m'The TF-IDF vectorizer is not fitted'\u001b[0m\u001b[0;34m)\u001b[0m\u001b[0;34m\u001b[0m\u001b[0;34m\u001b[0m\u001b[0m\n\u001b[0m\u001b[1;32m   1873\u001b[0m \u001b[0;34m\u001b[0m\u001b[0m\n\u001b[1;32m   1874\u001b[0m         \u001b[0;31m# FIXME Remove copy parameter support in 0.24\u001b[0m\u001b[0;34m\u001b[0m\u001b[0;34m\u001b[0m\u001b[0;34m\u001b[0m\u001b[0m\n",
      "\u001b[0;32m/opt/conda/lib/python3.7/site-packages/sklearn/utils/validation.py\u001b[0m in \u001b[0;36minner_f\u001b[0;34m(*args, **kwargs)\u001b[0m\n\u001b[1;32m     70\u001b[0m                           FutureWarning)\n\u001b[1;32m     71\u001b[0m         \u001b[0mkwargs\u001b[0m\u001b[0;34m.\u001b[0m\u001b[0mupdate\u001b[0m\u001b[0;34m(\u001b[0m\u001b[0;34m{\u001b[0m\u001b[0mk\u001b[0m\u001b[0;34m:\u001b[0m \u001b[0marg\u001b[0m \u001b[0;32mfor\u001b[0m \u001b[0mk\u001b[0m\u001b[0;34m,\u001b[0m \u001b[0marg\u001b[0m \u001b[0;32min\u001b[0m \u001b[0mzip\u001b[0m\u001b[0;34m(\u001b[0m\u001b[0msig\u001b[0m\u001b[0;34m.\u001b[0m\u001b[0mparameters\u001b[0m\u001b[0;34m,\u001b[0m \u001b[0margs\u001b[0m\u001b[0;34m)\u001b[0m\u001b[0;34m}\u001b[0m\u001b[0;34m)\u001b[0m\u001b[0;34m\u001b[0m\u001b[0;34m\u001b[0m\u001b[0m\n\u001b[0;32m---> 72\u001b[0;31m         \u001b[0;32mreturn\u001b[0m \u001b[0mf\u001b[0m\u001b[0;34m(\u001b[0m\u001b[0;34m**\u001b[0m\u001b[0mkwargs\u001b[0m\u001b[0;34m)\u001b[0m\u001b[0;34m\u001b[0m\u001b[0;34m\u001b[0m\u001b[0m\n\u001b[0m\u001b[1;32m     73\u001b[0m     \u001b[0;32mreturn\u001b[0m \u001b[0minner_f\u001b[0m\u001b[0;34m\u001b[0m\u001b[0;34m\u001b[0m\u001b[0m\n\u001b[1;32m     74\u001b[0m \u001b[0;34m\u001b[0m\u001b[0m\n",
      "\u001b[0;32m/opt/conda/lib/python3.7/site-packages/sklearn/utils/validation.py\u001b[0m in \u001b[0;36mcheck_is_fitted\u001b[0;34m(estimator, attributes, msg, all_or_any)\u001b[0m\n\u001b[1;32m   1017\u001b[0m \u001b[0;34m\u001b[0m\u001b[0m\n\u001b[1;32m   1018\u001b[0m     \u001b[0;32mif\u001b[0m \u001b[0;32mnot\u001b[0m \u001b[0mattrs\u001b[0m\u001b[0;34m:\u001b[0m\u001b[0;34m\u001b[0m\u001b[0;34m\u001b[0m\u001b[0m\n\u001b[0;32m-> 1019\u001b[0;31m         \u001b[0;32mraise\u001b[0m \u001b[0mNotFittedError\u001b[0m\u001b[0;34m(\u001b[0m\u001b[0mmsg\u001b[0m \u001b[0;34m%\u001b[0m \u001b[0;34m{\u001b[0m\u001b[0;34m'name'\u001b[0m\u001b[0;34m:\u001b[0m \u001b[0mtype\u001b[0m\u001b[0;34m(\u001b[0m\u001b[0mestimator\u001b[0m\u001b[0;34m)\u001b[0m\u001b[0;34m.\u001b[0m\u001b[0m__name__\u001b[0m\u001b[0;34m}\u001b[0m\u001b[0;34m)\u001b[0m\u001b[0;34m\u001b[0m\u001b[0;34m\u001b[0m\u001b[0m\n\u001b[0m\u001b[1;32m   1020\u001b[0m \u001b[0;34m\u001b[0m\u001b[0m\n\u001b[1;32m   1021\u001b[0m \u001b[0;34m\u001b[0m\u001b[0m\n",
      "\u001b[0;31mNotFittedError\u001b[0m: The TF-IDF vectorizer is not fitted"
     ]
    }
   ],
   "source": [
    "test_tfidf = tfidf_vec.transform(test_lemm['lemm_str'].values.astype('U').tolist()) "
   ]
  },
  {
   "cell_type": "code",
   "execution_count": 109,
   "metadata": {
    "execution": {
     "iopub.execute_input": "2020-12-18T20:48:54.202161Z",
     "iopub.status.busy": "2020-12-18T20:48:54.194880Z",
     "iopub.status.idle": "2020-12-18T20:48:54.209649Z",
     "shell.execute_reply": "2020-12-18T20:48:54.208938Z"
    },
    "papermill": {
     "duration": 0.174642,
     "end_time": "2020-12-18T20:48:54.209829",
     "exception": false,
     "start_time": "2020-12-18T20:48:54.035187",
     "status": "completed"
    },
    "tags": []
   },
   "outputs": [
    {
     "ename": "NameError",
     "evalue": "name 'test_tfidf' is not defined",
     "output_type": "error",
     "traceback": [
      "\u001b[0;31m---------------------------------------------------------------------------\u001b[0m",
      "\u001b[0;31mNameError\u001b[0m                                 Traceback (most recent call last)",
      "\u001b[0;32m<ipython-input-109-82b0367f110e>\u001b[0m in \u001b[0;36m<module>\u001b[0;34m\u001b[0m\n\u001b[0;32m----> 1\u001b[0;31m \u001b[0mtest_tfidf\u001b[0m\u001b[0;34m.\u001b[0m\u001b[0mshape\u001b[0m\u001b[0;34m\u001b[0m\u001b[0;34m\u001b[0m\u001b[0m\n\u001b[0m",
      "\u001b[0;31mNameError\u001b[0m: name 'test_tfidf' is not defined"
     ]
    }
   ],
   "source": [
    "test_tfidf.shape"
   ]
  },
  {
   "cell_type": "markdown",
   "metadata": {
    "papermill": {
     "duration": 0.146491,
     "end_time": "2020-12-18T20:48:54.507247",
     "exception": false,
     "start_time": "2020-12-18T20:48:54.360756",
     "status": "completed"
    },
    "tags": []
   },
   "source": [
    "# Without hyperparameters tuning"
   ]
  },
  {
   "cell_type": "code",
   "execution_count": 110,
   "metadata": {
    "execution": {
     "iopub.execute_input": "2020-12-18T20:48:54.822009Z",
     "iopub.status.busy": "2020-12-18T20:48:54.821269Z",
     "iopub.status.idle": "2020-12-18T20:48:54.829366Z",
     "shell.execute_reply": "2020-12-18T20:48:54.828758Z"
    },
    "papermill": {
     "duration": 0.175449,
     "end_time": "2020-12-18T20:48:54.829493",
     "exception": false,
     "start_time": "2020-12-18T20:48:54.654044",
     "status": "completed"
    },
    "tags": []
   },
   "outputs": [
    {
     "ename": "NameError",
     "evalue": "name 'train_tfidf' is not defined",
     "output_type": "error",
     "traceback": [
      "\u001b[0;31m---------------------------------------------------------------------------\u001b[0m",
      "\u001b[0;31mNameError\u001b[0m                                 Traceback (most recent call last)",
      "\u001b[0;32m<ipython-input-110-4708d47aa294>\u001b[0m in \u001b[0;36m<module>\u001b[0;34m\u001b[0m\n\u001b[0;32m----> 1\u001b[0;31m \u001b[0mX_train\u001b[0m \u001b[0;34m=\u001b[0m \u001b[0mtrain_tfidf\u001b[0m\u001b[0;34m\u001b[0m\u001b[0;34m\u001b[0m\u001b[0m\n\u001b[0m\u001b[1;32m      2\u001b[0m \u001b[0my_train\u001b[0m \u001b[0;34m=\u001b[0m \u001b[0mtrain_wmf\u001b[0m\u001b[0;34m[\u001b[0m\u001b[0;34m\"target\"\u001b[0m\u001b[0;34m]\u001b[0m\u001b[0;34m.\u001b[0m\u001b[0mvalues\u001b[0m\u001b[0;34m\u001b[0m\u001b[0;34m\u001b[0m\u001b[0m\n",
      "\u001b[0;31mNameError\u001b[0m: name 'train_tfidf' is not defined"
     ]
    }
   ],
   "source": [
    "X_train = train_tfidf\n",
    "y_train = train_wmf[\"target\"].values"
   ]
  },
  {
   "cell_type": "code",
   "execution_count": 111,
   "metadata": {
    "execution": {
     "iopub.execute_input": "2020-12-18T20:48:55.135282Z",
     "iopub.status.busy": "2020-12-18T20:48:55.134360Z",
     "iopub.status.idle": "2020-12-18T20:48:56.082182Z",
     "shell.execute_reply": "2020-12-18T20:48:56.081516Z"
    },
    "papermill": {
     "duration": 1.102031,
     "end_time": "2020-12-18T20:48:56.082312",
     "exception": false,
     "start_time": "2020-12-18T20:48:54.980281",
     "status": "completed"
    },
    "tags": []
   },
   "outputs": [],
   "source": [
    "from sklearn.model_selection import train_test_split\n",
    "\n",
    "# split the train data now into train validation and cross validation\n",
    "train_df, cv_df, y_train, y_cv = train_test_split(X_train, y_train, stratify=y_train, test_size=0.3)"
   ]
  },
  {
   "cell_type": "code",
   "execution_count": null,
   "metadata": {
    "papermill": {
     "duration": 0.155265,
     "end_time": "2020-12-18T20:48:56.391088",
     "exception": false,
     "start_time": "2020-12-18T20:48:56.235823",
     "status": "completed"
    },
    "tags": []
   },
   "outputs": [],
   "source": []
  },
  {
   "cell_type": "code",
   "execution_count": null,
   "metadata": {
    "papermill": {
     "duration": 0.1613,
     "end_time": "2020-12-18T20:48:56.710759",
     "exception": false,
     "start_time": "2020-12-18T20:48:56.549459",
     "status": "completed"
    },
    "tags": []
   },
   "outputs": [],
   "source": []
  }
 ],
 "metadata": {
  "kernelspec": {
   "display_name": "Python 3",
   "language": "python",
   "name": "python3"
  },
  "language_info": {
   "codemirror_mode": {
    "name": "ipython",
    "version": 3
   },
   "file_extension": ".py",
   "mimetype": "text/x-python",
   "name": "python",
   "nbconvert_exporter": "python",
   "pygments_lexer": "ipython3",
   "version": "3.7.6"
  },
  "papermill": {
   "duration": 570.797827,
   "end_time": "2020-12-18T20:48:56.974219",
   "environment_variables": {},
   "exception": null,
   "input_path": "__notebook__.ipynb",
   "output_path": "__notebook__.ipynb",
   "parameters": {},
   "start_time": "2020-12-18T20:39:26.176392",
   "version": "2.1.0"
  }
 },
 "nbformat": 4,
 "nbformat_minor": 4
}
